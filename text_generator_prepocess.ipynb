{
 "cells": [
  {
   "cell_type": "code",
   "execution_count": 1,
   "metadata": {},
   "outputs": [],
   "source": [
    "import re\n",
    "import tensorflow as tf\n",
    "import numpy as np\n",
    "\n",
    "from transformers import TFBertModel, BertTokenizer\n",
    "from tensorflow.keras.layers import Dense, Dropout, Input\n",
    "from tensorflow.keras.models import Model\n",
    "from tensorflow.keras.optimizers import Adam, SGD\n",
    "from tensorflow.keras.callbacks import EarlyStopping, ModelCheckpoint\n",
    "from sklearn.metrics.pairwise import cosine_similarity\n"
   ]
  },
  {
   "cell_type": "code",
   "execution_count": 2,
   "metadata": {},
   "outputs": [],
   "source": [
    "import matplotlib.pyplot as plt\n",
    "%matplotlib inline"
   ]
  },
  {
   "cell_type": "code",
   "execution_count": 3,
   "metadata": {},
   "outputs": [],
   "source": [
    "filename = 'data/raw_text/aesop_fable.txt'\n",
    "\n",
    "with open(filename, 'r', encoding='utf-8-sig') as f:\n",
    "    raw_text = f.read()"
   ]
  },
  {
   "cell_type": "code",
   "execution_count": 4,
   "metadata": {},
   "outputs": [
    {
     "name": "stdout",
     "output_type": "stream",
     "text": [
      "The Wolf A\n"
     ]
    }
   ],
   "source": [
    "print(raw_text[:10])"
   ]
  },
  {
   "cell_type": "code",
   "execution_count": 5,
   "metadata": {},
   "outputs": [],
   "source": [
    "tokenizer = BertTokenizer.from_pretrained('bert-base-uncased')"
   ]
  },
  {
   "cell_type": "code",
   "execution_count": 6,
   "metadata": {},
   "outputs": [
    {
     "name": "stdout",
     "output_type": "stream",
     "text": [
      "Bad lines: 0\n"
     ]
    }
   ],
   "source": [
    "file_name = \"data/GloVe/glove.6B.50d.txt\"\n",
    "\n",
    "embedding = {}\n",
    "idx_to_word = {}\n",
    "word_to_idx = {}\n",
    "bad_lines = 0\n",
    "\n",
    "with open(file_name, 'r', encoding='UTF-8') as f:\n",
    "    for idx, line in enumerate(f):\n",
    "        try:\n",
    "            line = line.strip()\n",
    "            match_obj = re.match(r'([^\\s]+)', line)\n",
    "            word = match_obj.group(1)\n",
    "            word_len = len(word)\n",
    "            word_vec = line[word_len:].replace('\\n', '')\n",
    "\n",
    "            embed = word_vec.strip()\n",
    "            embed = embed.split()\n",
    "            embed = np.array(embed, dtype=np.float32)\n",
    "            \n",
    "            embedding[idx] = [embed]\n",
    "            idx_to_word[idx] = word.strip()\n",
    "            word_to_idx[word.strip()] = idx\n",
    "        except:\n",
    "            bad_lines += 1\n",
    "\n",
    "print(f'Bad lines: {bad_lines}')"
   ]
  },
  {
   "cell_type": "code",
   "execution_count": 7,
   "metadata": {},
   "outputs": [
    {
     "data": {
      "text/plain": [
       "array([[0.8778121]], dtype=float32)"
      ]
     },
     "execution_count": 7,
     "metadata": {},
     "output_type": "execute_result"
    }
   ],
   "source": [
    "w1 = 'waiter'\n",
    "w2 = 'waitress'\n",
    "\n",
    "w1_embed = embedding[word_to_idx[w1]]\n",
    "w2_embed = embedding[word_to_idx[w2]]\n",
    "cosine_similarity(w1_embed, w2_embed)"
   ]
  },
  {
   "cell_type": "code",
   "execution_count": 8,
   "metadata": {},
   "outputs": [],
   "source": [
    "def get_embedding(word):\n",
    "    if word in word_to_idx:\n",
    "        return embedding[word_to_idx[word]]\n",
    "    else:\n",
    "        return embedding[word_to_idx['umm']]"
   ]
  },
  {
   "cell_type": "code",
   "execution_count": 9,
   "metadata": {},
   "outputs": [
    {
     "name": "stderr",
     "output_type": "stream",
     "text": [
      "2021-11-16 14:02:45.823900: I tensorflow/stream_executor/cuda/cuda_gpu_executor.cc:939] successful NUMA node read from SysFS had negative value (-1), but there must be at least one NUMA node, so returning NUMA node zero\n",
      "2021-11-16 14:02:45.828886: I tensorflow/stream_executor/cuda/cuda_gpu_executor.cc:939] successful NUMA node read from SysFS had negative value (-1), but there must be at least one NUMA node, so returning NUMA node zero\n",
      "2021-11-16 14:02:45.829223: I tensorflow/stream_executor/cuda/cuda_gpu_executor.cc:939] successful NUMA node read from SysFS had negative value (-1), but there must be at least one NUMA node, so returning NUMA node zero\n",
      "2021-11-16 14:02:45.829882: I tensorflow/core/platform/cpu_feature_guard.cc:151] This TensorFlow binary is optimized with oneAPI Deep Neural Network Library (oneDNN) to use the following CPU instructions in performance-critical operations:  AVX2 FMA\n",
      "To enable them in other operations, rebuild TensorFlow with the appropriate compiler flags.\n",
      "2021-11-16 14:02:45.830676: I tensorflow/stream_executor/cuda/cuda_gpu_executor.cc:939] successful NUMA node read from SysFS had negative value (-1), but there must be at least one NUMA node, so returning NUMA node zero\n",
      "2021-11-16 14:02:45.831024: I tensorflow/stream_executor/cuda/cuda_gpu_executor.cc:939] successful NUMA node read from SysFS had negative value (-1), but there must be at least one NUMA node, so returning NUMA node zero\n",
      "2021-11-16 14:02:45.831331: I tensorflow/stream_executor/cuda/cuda_gpu_executor.cc:939] successful NUMA node read from SysFS had negative value (-1), but there must be at least one NUMA node, so returning NUMA node zero\n",
      "2021-11-16 14:02:46.151441: I tensorflow/stream_executor/cuda/cuda_gpu_executor.cc:939] successful NUMA node read from SysFS had negative value (-1), but there must be at least one NUMA node, so returning NUMA node zero\n",
      "2021-11-16 14:02:46.151786: I tensorflow/stream_executor/cuda/cuda_gpu_executor.cc:939] successful NUMA node read from SysFS had negative value (-1), but there must be at least one NUMA node, so returning NUMA node zero\n",
      "2021-11-16 14:02:46.152345: I tensorflow/stream_executor/cuda/cuda_gpu_executor.cc:939] successful NUMA node read from SysFS had negative value (-1), but there must be at least one NUMA node, so returning NUMA node zero\n",
      "2021-11-16 14:02:46.152780: I tensorflow/core/common_runtime/gpu/gpu_device.cc:1525] Created device /job:localhost/replica:0/task:0/device:GPU:0 with 9607 MB memory:  -> device: 0, name: NVIDIA GeForce RTX 3060, pci bus id: 0000:2b:00.0, compute capability: 8.6\n"
     ]
    },
    {
     "name": "stdout",
     "output_type": "stream",
     "text": [
      "Number of sequences: 55180\n"
     ]
    }
   ],
   "source": [
    "def generate_sequences(text, seq_length):\n",
    "    tokens = tokenizer.tokenize(text)\n",
    "    num_sequences = len(tokens) - seq_length\n",
    "    \n",
    "    x = []\n",
    "    x_token = np.zeros((num_sequences, seq_length+2))\n",
    "    x_mask = np.zeros((num_sequences, seq_length+2))\n",
    "    y_token = np.zeros((num_sequences, 50), dtype=np.float32)\n",
    "\n",
    "    for i in range(0, num_sequences):\n",
    "        seq = tokens[i:i + seq_length]\n",
    "        input = tokenizer.encode_plus(seq, max_length=seq_length+2, truncation=True, padding='max_length', add_special_tokens=True, return_tensors='tf')\n",
    "        \n",
    "        x.append(seq)\n",
    "        x_token[i, :] = input['input_ids']\n",
    "        x_mask[i, :] = input['attention_mask']\n",
    "        y_token[i, :] = get_embedding(tokens[i + seq_length])[0]\n",
    "\n",
    "    print(f'Number of sequences: {num_sequences}')\n",
    "\n",
    "    return x, x_token, x_mask, y_token, num_sequences\n",
    "\n",
    "seq_length = 20\n",
    "x, x_token, x_mask, y_token, num_sequences = generate_sequences(raw_text, seq_length)"
   ]
  },
  {
   "cell_type": "code",
   "execution_count": 10,
   "metadata": {},
   "outputs": [
    {
     "name": "stdout",
     "output_type": "stream",
     "text": [
      "[['the', 'wolf', 'and', 'the', 'lamb', 'wolf', ',', 'meeting', 'with', 'a', 'lamb', 'as', '##tray', 'from', 'the', 'fold', ',', 'resolved', 'not', 'to'], ['wolf', 'and', 'the', 'lamb', 'wolf', ',', 'meeting', 'with', 'a', 'lamb', 'as', '##tray', 'from', 'the', 'fold', ',', 'resolved', 'not', 'to', 'lay']]\n",
      "[[  101.  1996.  4702.  1998.  1996. 12559.  4702.  1010.  3116.  2007.\n",
      "   1037. 12559.  2004. 28473.  2013.  1996. 10671.  1010. 10395.  2025.\n",
      "   2000.   102.]\n",
      " [  101.  4702.  1998.  1996. 12559.  4702.  1010.  3116.  2007.  1037.\n",
      "  12559.  2004. 28473.  2013.  1996. 10671.  1010. 10395.  2025.  2000.\n",
      "   3913.   102.]]\n",
      "[[1. 1. 1. 1. 1. 1. 1. 1. 1. 1. 1. 1. 1. 1. 1. 1. 1. 1. 1. 1. 1. 1.]\n",
      " [1. 1. 1. 1. 1. 1. 1. 1. 1. 1. 1. 1. 1. 1. 1. 1. 1. 1. 1. 1. 1. 1.]]\n",
      "[[ 1.1417e+00  4.6283e-01  3.1850e-01 -1.0938e+00  7.7268e-01 -8.5313e-03\n",
      "  -2.7627e-01  1.9700e-01  2.5137e-01 -7.4092e-01 -5.2680e-01  6.7512e-02\n",
      "  -6.1951e-01  3.2295e-01 -2.9231e-01  2.7597e-01 -2.1011e-02 -4.3145e-01\n",
      "   8.1964e-01 -4.1744e-01 -3.3500e-01  2.3481e-01  7.0489e-01 -3.5527e-01\n",
      "  -4.2271e-01 -1.1781e+00 -4.7389e-01  3.5343e-01 -7.7644e-02 -2.8819e-01\n",
      "   2.1887e+00 -7.7166e-02 -5.3521e-01  3.7567e-01 -1.2167e-01 -1.0910e-01\n",
      "  -1.1022e-01  5.2403e-02  9.9741e-01  2.8786e-01 -6.2407e-01 -4.2667e-01\n",
      "  -1.5656e-04  6.4558e-01  4.8132e-01 -1.8291e-01 -5.5292e-01 -6.6174e-01\n",
      "  -2.7978e-01 -8.6844e-01]\n",
      " [ 3.4818e-01 -8.8657e-01 -2.6971e-01 -2.7064e-01 -4.9003e-01  4.8359e-01\n",
      "   9.5457e-01 -8.9255e-02 -6.2285e-01  1.1782e+00 -5.8385e-01 -1.2310e+00\n",
      "  -4.4248e-01  1.5747e-01  7.0326e-01 -6.0854e-01  2.2851e-02 -1.3363e-01\n",
      "  -6.0768e-01  2.8166e-01 -2.8764e-01  4.6183e-01  3.9595e-01  7.0407e-01\n",
      "  -3.4558e-01 -1.3530e+00  1.2247e-01 -2.7575e-01  1.1103e+00  8.5284e-01\n",
      "   2.8779e+00 -2.5105e-01 -2.2009e-01 -1.4588e+00 -5.2604e-01  3.6152e-01\n",
      "  -3.3094e-01 -1.6539e+00 -1.1313e+00  2.6021e-01 -1.1531e+00  6.0551e-01\n",
      "  -2.4659e-01  1.6711e-01  1.0962e+00 -4.0880e-01 -1.9643e-01 -4.8867e-01\n",
      "   2.8021e-01 -2.0419e-01]]\n"
     ]
    }
   ],
   "source": [
    "print(x[:2])\n",
    "print(x_token[:2])\n",
    "print(x_mask[:2])\n",
    "print(y_token[:2])"
   ]
  },
  {
   "cell_type": "code",
   "execution_count": 11,
   "metadata": {},
   "outputs": [
    {
     "data": {
      "text/plain": [
       "<TakeDataset shapes: ((22,), (22,), (50,)), types: (tf.float64, tf.float64, tf.float32)>"
      ]
     },
     "execution_count": 11,
     "metadata": {},
     "output_type": "execute_result"
    }
   ],
   "source": [
    "dataset = tf.data.Dataset.from_tensor_slices((x_token, x_mask, y_token))\n",
    "dataset.take(1)"
   ]
  },
  {
   "cell_type": "code",
   "execution_count": 12,
   "metadata": {},
   "outputs": [
    {
     "data": {
      "text/plain": [
       "<TakeDataset shapes: ({input_ids: (22,), attention_mask: (22,)}, (50,)), types: ({input_ids: tf.float64, attention_mask: tf.float64}, tf.float32)>"
      ]
     },
     "execution_count": 12,
     "metadata": {},
     "output_type": "execute_result"
    }
   ],
   "source": [
    "def combine_input_mask(input_id, mask, y_token):\n",
    "    return {'input_ids': input_id, 'attention_mask': mask}, y_token\n",
    "\n",
    "dataset = dataset.map(combine_input_mask)\n",
    "dataset.take(1)\n"
   ]
  },
  {
   "cell_type": "code",
   "execution_count": 13,
   "metadata": {},
   "outputs": [
    {
     "data": {
      "text/plain": [
       "<TakeDataset shapes: ({input_ids: (32, 22), attention_mask: (32, 22)}, (32, 50)), types: ({input_ids: tf.float64, attention_mask: tf.float64}, tf.float32)>"
      ]
     },
     "execution_count": 13,
     "metadata": {},
     "output_type": "execute_result"
    }
   ],
   "source": [
    "batch_size = 32\n",
    "dataset = dataset.shuffle(10000).batch(batch_size, drop_remainder=True)\n",
    "dataset.take(1)"
   ]
  },
  {
   "cell_type": "code",
   "execution_count": 14,
   "metadata": {},
   "outputs": [],
   "source": [
    "split = 0.8\n",
    "sample_size = int((num_sequences // batch_size) * split)\n",
    "\n",
    "ds_train = dataset.take(sample_size)\n",
    "ds_test = dataset.skip(sample_size)"
   ]
  },
  {
   "cell_type": "code",
   "execution_count": 15,
   "metadata": {},
   "outputs": [
    {
     "name": "stderr",
     "output_type": "stream",
     "text": [
      "2021-11-16 14:03:02.514477: I tensorflow/stream_executor/cuda/cuda_blas.cc:1774] TensorFloat-32 will be used for the matrix multiplication. This will only be logged once.\n",
      "Some layers from the model checkpoint at bert-base-uncased were not used when initializing TFBertModel: ['mlm___cls', 'nsp___cls']\n",
      "- This IS expected if you are initializing TFBertModel from the checkpoint of a model trained on another task or with another architecture (e.g. initializing a BertForSequenceClassification model from a BertForPreTraining model).\n",
      "- This IS NOT expected if you are initializing TFBertModel from the checkpoint of a model that you expect to be exactly identical (initializing a BertForSequenceClassification model from a BertForSequenceClassification model).\n",
      "All the layers of TFBertModel were initialized from the model checkpoint at bert-base-uncased.\n",
      "If your task is similar to the task the model of the checkpoint was trained on, you can already use TFBertModel for predictions without further training.\n"
     ]
    }
   ],
   "source": [
    "bert = TFBertModel.from_pretrained('bert-base-uncased')"
   ]
  },
  {
   "cell_type": "code",
   "execution_count": 16,
   "metadata": {},
   "outputs": [
    {
     "name": "stdout",
     "output_type": "stream",
     "text": [
      "Epoch 1/100\n",
      "1379/1379 [==============================] - ETA: 0s - loss: 0.4963 - accuracy: 0.5139\n",
      "Epoch 00001: val_loss improved from inf to 0.34381, saving model to best_model\n"
     ]
    },
    {
     "name": "stderr",
     "output_type": "stream",
     "text": [
      "2021-11-16 14:04:33.511842: W tensorflow/python/util/util.cc:368] Sets are not currently considered sequences, but this may change in the future, so consider avoiding using them.\n"
     ]
    },
    {
     "name": "stdout",
     "output_type": "stream",
     "text": [
      "INFO:tensorflow:Assets written to: best_model/assets\n"
     ]
    },
    {
     "name": "stderr",
     "output_type": "stream",
     "text": [
      "INFO:tensorflow:Assets written to: best_model/assets\n"
     ]
    },
    {
     "name": "stdout",
     "output_type": "stream",
     "text": [
      "1379/1379 [==============================] - 77s 54ms/step - loss: 0.4963 - accuracy: 0.5139 - val_loss: 0.3438 - val_accuracy: 0.7881\n",
      "Epoch 2/100\n",
      "   1/1379 [..............................] - ETA: 1:26 - loss: 0.3399 - accuracy: 0.8438"
     ]
    },
    {
     "name": "stderr",
     "output_type": "stream",
     "text": [
      "/usr/local/python/lib/python3.9/site-packages/keras/saving/saved_model/layer_serialization.py:112: CustomMaskWarning: Custom mask layers require a config and must override get_config. When loading, the custom mask layer must be passed to the custom_objects argument.\n",
      "  return generic_utils.serialize_keras_object(obj)\n"
     ]
    },
    {
     "name": "stdout",
     "output_type": "stream",
     "text": [
      "1379/1379 [==============================] - ETA: 0s - loss: 0.3634 - accuracy: 0.8165\n",
      "Epoch 00002: val_loss improved from 0.34381 to 0.31698, saving model to best_model\n",
      "INFO:tensorflow:Assets written to: best_model/assets\n"
     ]
    },
    {
     "name": "stderr",
     "output_type": "stream",
     "text": [
      "INFO:tensorflow:Assets written to: best_model/assets\n"
     ]
    },
    {
     "name": "stdout",
     "output_type": "stream",
     "text": [
      "1379/1379 [==============================] - 74s 54ms/step - loss: 0.3634 - accuracy: 0.8165 - val_loss: 0.3170 - val_accuracy: 0.7987\n",
      "Epoch 3/100\n",
      "   1/1379 [..............................] - ETA: 1:29 - loss: 0.2729 - accuracy: 0.9688"
     ]
    },
    {
     "name": "stderr",
     "output_type": "stream",
     "text": [
      "/usr/local/python/lib/python3.9/site-packages/keras/saving/saved_model/layer_serialization.py:112: CustomMaskWarning: Custom mask layers require a config and must override get_config. When loading, the custom mask layer must be passed to the custom_objects argument.\n",
      "  return generic_utils.serialize_keras_object(obj)\n"
     ]
    },
    {
     "name": "stdout",
     "output_type": "stream",
     "text": [
      "1379/1379 [==============================] - ETA: 0s - loss: 0.3448 - accuracy: 0.8264\n",
      "Epoch 00003: val_loss improved from 0.31698 to 0.31689, saving model to best_model\n",
      "INFO:tensorflow:Assets written to: best_model/assets\n"
     ]
    },
    {
     "name": "stderr",
     "output_type": "stream",
     "text": [
      "INFO:tensorflow:Assets written to: best_model/assets\n"
     ]
    },
    {
     "name": "stdout",
     "output_type": "stream",
     "text": [
      "1379/1379 [==============================] - 74s 54ms/step - loss: 0.3448 - accuracy: 0.8264 - val_loss: 0.3169 - val_accuracy: 0.7972\n",
      "Epoch 4/100\n",
      "   1/1379 [..............................] - ETA: 1:45 - loss: 0.3509 - accuracy: 0.7812"
     ]
    },
    {
     "name": "stderr",
     "output_type": "stream",
     "text": [
      "/usr/local/python/lib/python3.9/site-packages/keras/saving/saved_model/layer_serialization.py:112: CustomMaskWarning: Custom mask layers require a config and must override get_config. When loading, the custom mask layer must be passed to the custom_objects argument.\n",
      "  return generic_utils.serialize_keras_object(obj)\n"
     ]
    },
    {
     "name": "stdout",
     "output_type": "stream",
     "text": [
      "1379/1379 [==============================] - ETA: 0s - loss: 0.3374 - accuracy: 0.8303\n",
      "Epoch 00004: val_loss improved from 0.31689 to 0.31232, saving model to best_model\n",
      "INFO:tensorflow:Assets written to: best_model/assets\n"
     ]
    },
    {
     "name": "stderr",
     "output_type": "stream",
     "text": [
      "INFO:tensorflow:Assets written to: best_model/assets\n"
     ]
    },
    {
     "name": "stdout",
     "output_type": "stream",
     "text": [
      "1379/1379 [==============================] - 74s 54ms/step - loss: 0.3374 - accuracy: 0.8303 - val_loss: 0.3123 - val_accuracy: 0.8002\n",
      "Epoch 5/100\n",
      "   1/1379 [..............................] - ETA: 1:27 - loss: 0.3233 - accuracy: 0.8750"
     ]
    },
    {
     "name": "stderr",
     "output_type": "stream",
     "text": [
      "/usr/local/python/lib/python3.9/site-packages/keras/saving/saved_model/layer_serialization.py:112: CustomMaskWarning: Custom mask layers require a config and must override get_config. When loading, the custom mask layer must be passed to the custom_objects argument.\n",
      "  return generic_utils.serialize_keras_object(obj)\n"
     ]
    },
    {
     "name": "stdout",
     "output_type": "stream",
     "text": [
      "1379/1379 [==============================] - ETA: 0s - loss: 0.3321 - accuracy: 0.8315\n",
      "Epoch 00005: val_loss improved from 0.31232 to 0.31010, saving model to best_model\n",
      "INFO:tensorflow:Assets written to: best_model/assets\n"
     ]
    },
    {
     "name": "stderr",
     "output_type": "stream",
     "text": [
      "INFO:tensorflow:Assets written to: best_model/assets\n"
     ]
    },
    {
     "name": "stdout",
     "output_type": "stream",
     "text": [
      "1379/1379 [==============================] - 69s 50ms/step - loss: 0.3321 - accuracy: 0.8315 - val_loss: 0.3101 - val_accuracy: 0.7992\n",
      "Epoch 6/100\n",
      "   1/1379 [..............................] - ETA: 1:33 - loss: 0.3029 - accuracy: 0.9375"
     ]
    },
    {
     "name": "stderr",
     "output_type": "stream",
     "text": [
      "/usr/local/python/lib/python3.9/site-packages/keras/saving/saved_model/layer_serialization.py:112: CustomMaskWarning: Custom mask layers require a config and must override get_config. When loading, the custom mask layer must be passed to the custom_objects argument.\n",
      "  return generic_utils.serialize_keras_object(obj)\n"
     ]
    },
    {
     "name": "stdout",
     "output_type": "stream",
     "text": [
      "1379/1379 [==============================] - ETA: 0s - loss: 0.3273 - accuracy: 0.8340\n",
      "Epoch 00006: val_loss improved from 0.31010 to 0.30667, saving model to best_model\n",
      "INFO:tensorflow:Assets written to: best_model/assets\n"
     ]
    },
    {
     "name": "stderr",
     "output_type": "stream",
     "text": [
      "INFO:tensorflow:Assets written to: best_model/assets\n"
     ]
    },
    {
     "name": "stdout",
     "output_type": "stream",
     "text": [
      "1379/1379 [==============================] - 66s 48ms/step - loss: 0.3273 - accuracy: 0.8340 - val_loss: 0.3067 - val_accuracy: 0.8044\n",
      "Epoch 7/100\n",
      "   1/1379 [..............................] - ETA: 1:33 - loss: 0.3477 - accuracy: 0.7812"
     ]
    },
    {
     "name": "stderr",
     "output_type": "stream",
     "text": [
      "/usr/local/python/lib/python3.9/site-packages/keras/saving/saved_model/layer_serialization.py:112: CustomMaskWarning: Custom mask layers require a config and must override get_config. When loading, the custom mask layer must be passed to the custom_objects argument.\n",
      "  return generic_utils.serialize_keras_object(obj)\n"
     ]
    },
    {
     "name": "stdout",
     "output_type": "stream",
     "text": [
      "1379/1379 [==============================] - ETA: 0s - loss: 0.3232 - accuracy: 0.8341\n",
      "Epoch 00007: val_loss improved from 0.30667 to 0.30488, saving model to best_model\n",
      "INFO:tensorflow:Assets written to: best_model/assets\n"
     ]
    },
    {
     "name": "stderr",
     "output_type": "stream",
     "text": [
      "INFO:tensorflow:Assets written to: best_model/assets\n"
     ]
    },
    {
     "name": "stdout",
     "output_type": "stream",
     "text": [
      "1379/1379 [==============================] - 66s 48ms/step - loss: 0.3232 - accuracy: 0.8341 - val_loss: 0.3049 - val_accuracy: 0.8051\n",
      "Epoch 8/100\n",
      "   1/1379 [..............................] - ETA: 1:30 - loss: 0.3149 - accuracy: 0.8125"
     ]
    },
    {
     "name": "stderr",
     "output_type": "stream",
     "text": [
      "/usr/local/python/lib/python3.9/site-packages/keras/saving/saved_model/layer_serialization.py:112: CustomMaskWarning: Custom mask layers require a config and must override get_config. When loading, the custom mask layer must be passed to the custom_objects argument.\n",
      "  return generic_utils.serialize_keras_object(obj)\n"
     ]
    },
    {
     "name": "stdout",
     "output_type": "stream",
     "text": [
      "1379/1379 [==============================] - ETA: 0s - loss: 0.3187 - accuracy: 0.8363\n",
      "Epoch 00008: val_loss improved from 0.30488 to 0.30339, saving model to best_model\n",
      "INFO:tensorflow:Assets written to: best_model/assets\n"
     ]
    },
    {
     "name": "stderr",
     "output_type": "stream",
     "text": [
      "INFO:tensorflow:Assets written to: best_model/assets\n"
     ]
    },
    {
     "name": "stdout",
     "output_type": "stream",
     "text": [
      "1379/1379 [==============================] - 68s 49ms/step - loss: 0.3187 - accuracy: 0.8363 - val_loss: 0.3034 - val_accuracy: 0.8023\n",
      "Epoch 9/100\n",
      "   1/1379 [..............................] - ETA: 1:23 - loss: 0.2964 - accuracy: 0.8438"
     ]
    },
    {
     "name": "stderr",
     "output_type": "stream",
     "text": [
      "/usr/local/python/lib/python3.9/site-packages/keras/saving/saved_model/layer_serialization.py:112: CustomMaskWarning: Custom mask layers require a config and must override get_config. When loading, the custom mask layer must be passed to the custom_objects argument.\n",
      "  return generic_utils.serialize_keras_object(obj)\n"
     ]
    },
    {
     "name": "stdout",
     "output_type": "stream",
     "text": [
      "1379/1379 [==============================] - ETA: 0s - loss: 0.3158 - accuracy: 0.8379\n",
      "Epoch 00009: val_loss did not improve from 0.30339\n",
      "1379/1379 [==============================] - 52s 38ms/step - loss: 0.3158 - accuracy: 0.8379 - val_loss: 0.3052 - val_accuracy: 0.8026\n",
      "Epoch 10/100\n",
      "1379/1379 [==============================] - ETA: 0s - loss: 0.3135 - accuracy: 0.8370\n",
      "Epoch 00010: val_loss did not improve from 0.30339\n",
      "1379/1379 [==============================] - 53s 38ms/step - loss: 0.3135 - accuracy: 0.8370 - val_loss: 0.3036 - val_accuracy: 0.8037\n",
      "Epoch 11/100\n",
      "1378/1379 [============================>.] - ETA: 0s - loss: 0.3102 - accuracy: 0.8370\n",
      "Epoch 00011: val_loss improved from 0.30339 to 0.30247, saving model to best_model\n",
      "INFO:tensorflow:Assets written to: best_model/assets\n"
     ]
    },
    {
     "name": "stderr",
     "output_type": "stream",
     "text": [
      "INFO:tensorflow:Assets written to: best_model/assets\n"
     ]
    },
    {
     "name": "stdout",
     "output_type": "stream",
     "text": [
      "1379/1379 [==============================] - 69s 50ms/step - loss: 0.3102 - accuracy: 0.8370 - val_loss: 0.3025 - val_accuracy: 0.8044\n",
      "Epoch 12/100\n",
      "   1/1379 [..............................] - ETA: 1:24 - loss: 0.2821 - accuracy: 0.9062"
     ]
    },
    {
     "name": "stderr",
     "output_type": "stream",
     "text": [
      "/usr/local/python/lib/python3.9/site-packages/keras/saving/saved_model/layer_serialization.py:112: CustomMaskWarning: Custom mask layers require a config and must override get_config. When loading, the custom mask layer must be passed to the custom_objects argument.\n",
      "  return generic_utils.serialize_keras_object(obj)\n"
     ]
    },
    {
     "name": "stdout",
     "output_type": "stream",
     "text": [
      "1379/1379 [==============================] - ETA: 0s - loss: 0.3087 - accuracy: 0.8373\n",
      "Epoch 00012: val_loss did not improve from 0.30247\n",
      "1379/1379 [==============================] - 53s 38ms/step - loss: 0.3087 - accuracy: 0.8373 - val_loss: 0.3034 - val_accuracy: 0.8005\n",
      "Epoch 13/100\n",
      "1379/1379 [==============================] - ETA: 0s - loss: 0.3057 - accuracy: 0.8382\n",
      "Epoch 00013: val_loss improved from 0.30247 to 0.30003, saving model to best_model\n",
      "INFO:tensorflow:Assets written to: best_model/assets\n"
     ]
    },
    {
     "name": "stderr",
     "output_type": "stream",
     "text": [
      "INFO:tensorflow:Assets written to: best_model/assets\n"
     ]
    },
    {
     "name": "stdout",
     "output_type": "stream",
     "text": [
      "1379/1379 [==============================] - 68s 49ms/step - loss: 0.3057 - accuracy: 0.8382 - val_loss: 0.3000 - val_accuracy: 0.8053\n",
      "Epoch 14/100\n",
      "   1/1379 [..............................] - ETA: 1:35 - loss: 0.2962 - accuracy: 0.8125"
     ]
    },
    {
     "name": "stderr",
     "output_type": "stream",
     "text": [
      "/usr/local/python/lib/python3.9/site-packages/keras/saving/saved_model/layer_serialization.py:112: CustomMaskWarning: Custom mask layers require a config and must override get_config. When loading, the custom mask layer must be passed to the custom_objects argument.\n",
      "  return generic_utils.serialize_keras_object(obj)\n"
     ]
    },
    {
     "name": "stdout",
     "output_type": "stream",
     "text": [
      "1379/1379 [==============================] - ETA: 0s - loss: 0.3033 - accuracy: 0.8393\n",
      "Epoch 00014: val_loss improved from 0.30003 to 0.29970, saving model to best_model\n",
      "INFO:tensorflow:Assets written to: best_model/assets\n"
     ]
    },
    {
     "name": "stderr",
     "output_type": "stream",
     "text": [
      "INFO:tensorflow:Assets written to: best_model/assets\n"
     ]
    },
    {
     "name": "stdout",
     "output_type": "stream",
     "text": [
      "1379/1379 [==============================] - 67s 49ms/step - loss: 0.3033 - accuracy: 0.8393 - val_loss: 0.2997 - val_accuracy: 0.8062\n",
      "Epoch 15/100\n",
      "   1/1379 [..............................] - ETA: 1:26 - loss: 0.2475 - accuracy: 0.9375"
     ]
    },
    {
     "name": "stderr",
     "output_type": "stream",
     "text": [
      "/usr/local/python/lib/python3.9/site-packages/keras/saving/saved_model/layer_serialization.py:112: CustomMaskWarning: Custom mask layers require a config and must override get_config. When loading, the custom mask layer must be passed to the custom_objects argument.\n",
      "  return generic_utils.serialize_keras_object(obj)\n"
     ]
    },
    {
     "name": "stdout",
     "output_type": "stream",
     "text": [
      "1379/1379 [==============================] - ETA: 0s - loss: 0.3019 - accuracy: 0.8379\n",
      "Epoch 00015: val_loss did not improve from 0.29970\n",
      "1379/1379 [==============================] - 55s 40ms/step - loss: 0.3019 - accuracy: 0.8379 - val_loss: 0.3000 - val_accuracy: 0.7999\n",
      "Epoch 16/100\n",
      "1379/1379 [==============================] - ETA: 0s - loss: 0.3005 - accuracy: 0.8374\n",
      "Epoch 00016: val_loss improved from 0.29970 to 0.29784, saving model to best_model\n",
      "INFO:tensorflow:Assets written to: best_model/assets\n"
     ]
    },
    {
     "name": "stderr",
     "output_type": "stream",
     "text": [
      "INFO:tensorflow:Assets written to: best_model/assets\n"
     ]
    },
    {
     "name": "stdout",
     "output_type": "stream",
     "text": [
      "1379/1379 [==============================] - 67s 49ms/step - loss: 0.3005 - accuracy: 0.8374 - val_loss: 0.2978 - val_accuracy: 0.8034\n",
      "Epoch 17/100\n",
      "   1/1379 [..............................] - ETA: 1:38 - loss: 0.3627 - accuracy: 0.7500"
     ]
    },
    {
     "name": "stderr",
     "output_type": "stream",
     "text": [
      "/usr/local/python/lib/python3.9/site-packages/keras/saving/saved_model/layer_serialization.py:112: CustomMaskWarning: Custom mask layers require a config and must override get_config. When loading, the custom mask layer must be passed to the custom_objects argument.\n",
      "  return generic_utils.serialize_keras_object(obj)\n"
     ]
    },
    {
     "name": "stdout",
     "output_type": "stream",
     "text": [
      "1379/1379 [==============================] - ETA: 0s - loss: 0.2983 - accuracy: 0.8385\n",
      "Epoch 00017: val_loss did not improve from 0.29784\n",
      "1379/1379 [==============================] - 55s 40ms/step - loss: 0.2983 - accuracy: 0.8385 - val_loss: 0.2998 - val_accuracy: 0.8000\n",
      "Epoch 18/100\n",
      "1379/1379 [==============================] - ETA: 0s - loss: 0.2967 - accuracy: 0.8388\n",
      "Epoch 00018: val_loss improved from 0.29784 to 0.29746, saving model to best_model\n",
      "INFO:tensorflow:Assets written to: best_model/assets\n"
     ]
    },
    {
     "name": "stderr",
     "output_type": "stream",
     "text": [
      "INFO:tensorflow:Assets written to: best_model/assets\n"
     ]
    },
    {
     "name": "stdout",
     "output_type": "stream",
     "text": [
      "1379/1379 [==============================] - 68s 49ms/step - loss: 0.2967 - accuracy: 0.8388 - val_loss: 0.2975 - val_accuracy: 0.8064\n",
      "Epoch 19/100\n",
      "   1/1379 [..............................] - ETA: 1:25 - loss: 0.2744 - accuracy: 0.9062"
     ]
    },
    {
     "name": "stderr",
     "output_type": "stream",
     "text": [
      "/usr/local/python/lib/python3.9/site-packages/keras/saving/saved_model/layer_serialization.py:112: CustomMaskWarning: Custom mask layers require a config and must override get_config. When loading, the custom mask layer must be passed to the custom_objects argument.\n",
      "  return generic_utils.serialize_keras_object(obj)\n"
     ]
    },
    {
     "name": "stdout",
     "output_type": "stream",
     "text": [
      "1379/1379 [==============================] - ETA: 0s - loss: 0.2952 - accuracy: 0.8391\n",
      "Epoch 00019: val_loss improved from 0.29746 to 0.29682, saving model to best_model\n",
      "INFO:tensorflow:Assets written to: best_model/assets\n"
     ]
    },
    {
     "name": "stderr",
     "output_type": "stream",
     "text": [
      "INFO:tensorflow:Assets written to: best_model/assets\n"
     ]
    },
    {
     "name": "stdout",
     "output_type": "stream",
     "text": [
      "1379/1379 [==============================] - 67s 49ms/step - loss: 0.2952 - accuracy: 0.8391 - val_loss: 0.2968 - val_accuracy: 0.8066\n",
      "Epoch 20/100\n",
      "   1/1379 [..............................] - ETA: 1:29 - loss: 0.3362 - accuracy: 0.6875"
     ]
    },
    {
     "name": "stderr",
     "output_type": "stream",
     "text": [
      "/usr/local/python/lib/python3.9/site-packages/keras/saving/saved_model/layer_serialization.py:112: CustomMaskWarning: Custom mask layers require a config and must override get_config. When loading, the custom mask layer must be passed to the custom_objects argument.\n",
      "  return generic_utils.serialize_keras_object(obj)\n"
     ]
    },
    {
     "name": "stdout",
     "output_type": "stream",
     "text": [
      "1379/1379 [==============================] - ETA: 0s - loss: 0.2939 - accuracy: 0.8386\n",
      "Epoch 00020: val_loss improved from 0.29682 to 0.29620, saving model to best_model\n",
      "INFO:tensorflow:Assets written to: best_model/assets\n"
     ]
    },
    {
     "name": "stderr",
     "output_type": "stream",
     "text": [
      "INFO:tensorflow:Assets written to: best_model/assets\n"
     ]
    },
    {
     "name": "stdout",
     "output_type": "stream",
     "text": [
      "1379/1379 [==============================] - 67s 48ms/step - loss: 0.2939 - accuracy: 0.8386 - val_loss: 0.2962 - val_accuracy: 0.8067\n",
      "Epoch 21/100\n",
      "   1/1379 [..............................] - ETA: 1:34 - loss: 0.2808 - accuracy: 0.9375"
     ]
    },
    {
     "name": "stderr",
     "output_type": "stream",
     "text": [
      "/usr/local/python/lib/python3.9/site-packages/keras/saving/saved_model/layer_serialization.py:112: CustomMaskWarning: Custom mask layers require a config and must override get_config. When loading, the custom mask layer must be passed to the custom_objects argument.\n",
      "  return generic_utils.serialize_keras_object(obj)\n"
     ]
    },
    {
     "name": "stdout",
     "output_type": "stream",
     "text": [
      "1379/1379 [==============================] - ETA: 0s - loss: 0.2924 - accuracy: 0.8384\n",
      "Epoch 00021: val_loss did not improve from 0.29620\n",
      "1379/1379 [==============================] - 52s 38ms/step - loss: 0.2924 - accuracy: 0.8384 - val_loss: 0.2977 - val_accuracy: 0.8042\n",
      "Epoch 22/100\n",
      "1379/1379 [==============================] - ETA: 0s - loss: 0.2915 - accuracy: 0.8379\n",
      "Epoch 00022: val_loss did not improve from 0.29620\n",
      "1379/1379 [==============================] - 52s 38ms/step - loss: 0.2915 - accuracy: 0.8379 - val_loss: 0.2984 - val_accuracy: 0.8019\n",
      "Epoch 23/100\n",
      "1379/1379 [==============================] - ETA: 0s - loss: 0.2901 - accuracy: 0.8387\n",
      "Epoch 00023: val_loss did not improve from 0.29620\n",
      "1379/1379 [==============================] - 53s 38ms/step - loss: 0.2901 - accuracy: 0.8387 - val_loss: 0.2983 - val_accuracy: 0.8022\n",
      "Epoch 24/100\n",
      "1379/1379 [==============================] - ETA: 0s - loss: 0.2898 - accuracy: 0.8380\n",
      "Epoch 00024: val_loss improved from 0.29620 to 0.29448, saving model to best_model\n",
      "INFO:tensorflow:Assets written to: best_model/assets\n"
     ]
    },
    {
     "name": "stderr",
     "output_type": "stream",
     "text": [
      "INFO:tensorflow:Assets written to: best_model/assets\n"
     ]
    },
    {
     "name": "stdout",
     "output_type": "stream",
     "text": [
      "1379/1379 [==============================] - 68s 49ms/step - loss: 0.2898 - accuracy: 0.8380 - val_loss: 0.2945 - val_accuracy: 0.8079\n",
      "Epoch 25/100\n",
      "   1/1379 [..............................] - ETA: 1:26 - loss: 0.2912 - accuracy: 0.8438"
     ]
    },
    {
     "name": "stderr",
     "output_type": "stream",
     "text": [
      "/usr/local/python/lib/python3.9/site-packages/keras/saving/saved_model/layer_serialization.py:112: CustomMaskWarning: Custom mask layers require a config and must override get_config. When loading, the custom mask layer must be passed to the custom_objects argument.\n",
      "  return generic_utils.serialize_keras_object(obj)\n"
     ]
    },
    {
     "name": "stdout",
     "output_type": "stream",
     "text": [
      "1379/1379 [==============================] - ETA: 0s - loss: 0.2881 - accuracy: 0.8385\n",
      "Epoch 00025: val_loss did not improve from 0.29448\n",
      "1379/1379 [==============================] - 52s 38ms/step - loss: 0.2881 - accuracy: 0.8385 - val_loss: 0.2967 - val_accuracy: 0.8061\n",
      "Epoch 26/100\n",
      "1379/1379 [==============================] - ETA: 0s - loss: 0.2875 - accuracy: 0.8375\n",
      "Epoch 00026: val_loss did not improve from 0.29448\n",
      "1379/1379 [==============================] - 53s 38ms/step - loss: 0.2875 - accuracy: 0.8375 - val_loss: 0.2974 - val_accuracy: 0.8045\n",
      "Epoch 27/100\n",
      "1379/1379 [==============================] - ETA: 0s - loss: 0.2859 - accuracy: 0.8384\n",
      "Epoch 00027: val_loss did not improve from 0.29448\n",
      "1379/1379 [==============================] - 53s 39ms/step - loss: 0.2859 - accuracy: 0.8384 - val_loss: 0.2967 - val_accuracy: 0.8012\n",
      "Epoch 28/100\n",
      "1379/1379 [==============================] - ETA: 0s - loss: 0.2861 - accuracy: 0.8371\n",
      "Epoch 00028: val_loss did not improve from 0.29448\n",
      "1379/1379 [==============================] - 53s 38ms/step - loss: 0.2861 - accuracy: 0.8371 - val_loss: 0.2948 - val_accuracy: 0.8031\n",
      "Epoch 29/100\n",
      "1379/1379 [==============================] - ETA: 0s - loss: 0.2846 - accuracy: 0.8377\n",
      "Epoch 00029: val_loss did not improve from 0.29448\n",
      "1379/1379 [==============================] - 54s 39ms/step - loss: 0.2846 - accuracy: 0.8377 - val_loss: 0.2951 - val_accuracy: 0.8062\n",
      "Epoch 00029: early stopping\n"
     ]
    }
   ],
   "source": [
    "# supress INFO and Warning messages https://github.com/tensorflow/tensorflow/issues/47554\n",
    "import absl.logging\n",
    "absl.logging.set_verbosity(absl.logging.ERROR)\n",
    "\n",
    "es = EarlyStopping(monitor='val_loss', mode='min', verbose=1, patience=5)\n",
    "mc = ModelCheckpoint('best_model', monitor='val_loss',\n",
    "                     mode='min', save_best_only=True, verbose=1, save_format='tf')\n",
    "\n",
    "input_layer = Input(shape=(seq_length+2,), name='input_ids', dtype=tf.int32)\n",
    "mask_layer = Input(shape=(seq_length+2,),\n",
    "                   name='attention_mask', dtype=tf.int32)\n",
    "\n",
    "embedding_layer = bert.bert(input_layer, attention_mask=mask_layer)[1]\n",
    "\n",
    "out = Dense(1024, activation='relu')(embedding_layer)\n",
    "out = Dropout(0.2)(out)\n",
    "out = Dense(50)(out)\n",
    "\n",
    "model = Model(inputs=[input_layer, mask_layer], outputs=out)\n",
    "\n",
    "model.layers[2].trainable = False\n",
    "\n",
    "optimizer = SGD(learning_rate=0.00009, decay=1e-6)\n",
    "model.compile(optimizer=optimizer,\n",
    "              loss=tf.losses.mean_squared_error, metrics=['accuracy'])\n",
    "\n",
    "history = model.fit(ds_train, validation_data=ds_test,\n",
    "                    batch_size=64, epochs=100, shuffle=True, verbose=1, callbacks=[es, mc])\n"
   ]
  },
  {
   "cell_type": "code",
   "execution_count": 17,
   "metadata": {},
   "outputs": [
    {
     "data": {
      "image/png": "[encoded data removed]",
      "text/plain": [
       "<Figure size 432x288 with 1 Axes>"
      ]
     },
     "metadata": {
      "needs_background": "light"
     },
     "output_type": "display_data"
    }
   ],
   "source": [
    "plt.plot(history.history['loss'], label='train')\n",
    "plt.plot(history.history['val_loss'], label='test')\n",
    "plt.legend()\n",
    "plt.show()"
   ]
  },
  {
   "cell_type": "code",
   "execution_count": null,
   "metadata": {},
   "outputs": [],
   "source": []
  }
 ],
 "metadata": {
  "interpreter": {
   "hash": "31f2aee4e71d21fbe5cf8b01ff0e069b9275f58929596ceb00d14d90e3e16cd6"
  },
  "kernelspec": {
   "display_name": "Python 3.9.2 64-bit",
   "language": "python",
   "name": "python3"
  },
  "language_info": {
   "codemirror_mode": {
    "name": "ipython",
    "version": 3
   },
   "file_extension": ".py",
   "mimetype": "text/x-python",
   "name": "python",
   "nbconvert_exporter": "python",
   "pygments_lexer": "ipython3",
   "version": "3.9.8"
  },
  "orig_nbformat": 4
 },
 "nbformat": 4,
 "nbformat_minor": 2
}

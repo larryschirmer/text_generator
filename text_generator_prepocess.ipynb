{
 "cells": [
  {
   "cell_type": "markdown",
   "metadata": {},
   "source": [
    "# Text Generation with Embeddings\n",
    "\n",
    "Setup file with the necessary imports"
   ]
  },
  {
   "cell_type": "code",
   "execution_count": 2,
   "metadata": {},
   "outputs": [],
   "source": [
    "import re\n",
    "import tensorflow as tf\n",
    "import numpy as np\n",
    "\n",
    "from transformers import TFBertModel, BertTokenizer\n",
    "from tensorflow.keras.layers import Dense, Dropout, Input\n",
    "from tensorflow.keras.models import Model\n",
    "from tensorflow.keras.optimizers import Adam, SGD\n",
    "from tensorflow.keras.callbacks import EarlyStopping, ModelCheckpoint\n",
    "from sklearn.metrics.pairwise import cosine_similarity\n"
   ]
  },
  {
   "cell_type": "code",
   "execution_count": 3,
   "metadata": {},
   "outputs": [],
   "source": [
    "import matplotlib.pyplot as plt\n",
    "%matplotlib inline"
   ]
  },
  {
   "cell_type": "markdown",
   "metadata": {},
   "source": [
    "## Import the dataset\n",
    "\n",
    "The dataset is the book \"\" as a textfile. The orginal text from gutenberg is available at [http://www.gutenberg.org/ebooks/1661](http://www.gutenberg.org/ebooks/1661). The text contained a header that was removed in the this project."
   ]
  },
  {
   "cell_type": "code",
   "execution_count": 4,
   "metadata": {},
   "outputs": [],
   "source": [
    "filename = 'data/raw_text/aesop_fable.txt'\n",
    "\n",
    "with open(filename, 'r', encoding='utf-8-sig') as f:\n",
    "    raw_text = f.read()"
   ]
  },
  {
   "cell_type": "code",
   "execution_count": 5,
   "metadata": {},
   "outputs": [
    {
     "name": "stdout",
     "output_type": "stream",
     "text": [
      "The Wolf A\n"
     ]
    }
   ],
   "source": [
    "print(raw_text[:10])"
   ]
  },
  {
   "cell_type": "markdown",
   "metadata": {},
   "source": [
    "## Import GloVe Embeddings\n",
    "\n",
    "The GloVe embeddings are available at [http://nlp.stanford.edu/data/glove.6B.zip](http://nlp.stanford.edu/data/glove.6B.zip). The embeddings are in a textfile and can be loaded using the following code. The embeddings used here are the 50 dimensional embeddings and are stored in a dictionary. There are also two other dictionaries that contain the word to index and index to word mappings to make the embeddings easy to lookup by word and be able to convert tokens to words."
   ]
  },
  {
   "cell_type": "code",
   "execution_count": 6,
   "metadata": {},
   "outputs": [
    {
     "name": "stdout",
     "output_type": "stream",
     "text": [
      "Bad lines: 0\n"
     ]
    }
   ],
   "source": [
    "file_name = \"data/GloVe/glove.6B.50d.txt\"\n",
    "\n",
    "embedding = {}\n",
    "idx_to_word = {}\n",
    "word_to_idx = {}\n",
    "bad_lines = 0\n",
    "\n",
    "with open(file_name, 'r', encoding='UTF-8') as f:\n",
    "    for idx, line in enumerate(f):\n",
    "        try:\n",
    "            line = line.strip()\n",
    "            match_obj = re.match(r'([^\\s]+)', line)\n",
    "            word = match_obj.group(1)\n",
    "            word_len = len(word)\n",
    "            word_vec = line[word_len:].replace('\\n', '')\n",
    "\n",
    "            embed = word_vec.strip()\n",
    "            embed = embed.split()\n",
    "            embed = np.array(embed, dtype=np.float32)\n",
    "            \n",
    "            embedding[idx] = [embed]\n",
    "            idx_to_word[idx] = word.strip()\n",
    "            word_to_idx[word.strip()] = idx\n",
    "        except:\n",
    "            bad_lines += 1\n",
    "\n",
    "print(f'Bad lines: {bad_lines}')"
   ]
  },
  {
   "cell_type": "code",
   "execution_count": 7,
   "metadata": {},
   "outputs": [
    {
     "data": {
      "text/plain": [
       "array([[0.8778121]], dtype=float32)"
      ]
     },
     "execution_count": 7,
     "metadata": {},
     "output_type": "execute_result"
    }
   ],
   "source": [
    "w1 = 'waiter'\n",
    "w2 = 'waitress'\n",
    "\n",
    "w1_embed = embedding[word_to_idx[w1]]\n",
    "w2_embed = embedding[word_to_idx[w2]]\n",
    "cosine_similarity(w1_embed, w2_embed)"
   ]
  },
  {
   "cell_type": "markdown",
   "metadata": {},
   "source": [
    "## Generate the Dataset\n",
    "\n",
    "The dataset for this project is the text file sliced into arrays of 20 words and the label is the next word in the array. The input data is stored initially in three lists:\n",
    "\n",
    "- `x`: a list of 20 words\n",
    "- `x_token`: a list of the tokenized words (as BERT tokens)\n",
    "- `x_mask`: list containing the mask for the input data\n",
    "- `y`: the next word in the array as a BERT token\n",
    "\n",
    "Even though the GloVe embedding dataset contains 400,000 words, BERT tokens are stemmed and contain unconventional words with artifacts like `#`. To ensure that an embedding can be generated for every predicted word, a out-of-vocabulary words are replaced with the word \"umm\". We'll see how this goes."
   ]
  },
  {
   "cell_type": "code",
   "execution_count": 8,
   "metadata": {},
   "outputs": [],
   "source": [
    "tokenizer = BertTokenizer.from_pretrained('bert-base-uncased')"
   ]
  },
  {
   "cell_type": "code",
   "execution_count": 9,
   "metadata": {},
   "outputs": [],
   "source": [
    "def get_embedding(word):\n",
    "    if word in word_to_idx:\n",
    "        return embedding[word_to_idx[word]]\n",
    "    else:\n",
    "        return embedding[word_to_idx['umm']]"
   ]
  },
  {
   "cell_type": "code",
   "execution_count": 10,
   "metadata": {},
   "outputs": [
    {
     "name": "stderr",
     "output_type": "stream",
     "text": [
      "2021-11-18 16:04:15.302823: I tensorflow/stream_executor/cuda/cuda_gpu_executor.cc:939] successful NUMA node read from SysFS had negative value (-1), but there must be at least one NUMA node, so returning NUMA node zero\n",
      "2021-11-18 16:04:15.332987: I tensorflow/stream_executor/cuda/cuda_gpu_executor.cc:939] successful NUMA node read from SysFS had negative value (-1), but there must be at least one NUMA node, so returning NUMA node zero\n",
      "2021-11-18 16:04:15.333510: I tensorflow/stream_executor/cuda/cuda_gpu_executor.cc:939] successful NUMA node read from SysFS had negative value (-1), but there must be at least one NUMA node, so returning NUMA node zero\n",
      "2021-11-18 16:04:15.335444: I tensorflow/core/platform/cpu_feature_guard.cc:151] This TensorFlow binary is optimized with oneAPI Deep Neural Network Library (oneDNN) to use the following CPU instructions in performance-critical operations:  AVX2 FMA\n",
      "To enable them in other operations, rebuild TensorFlow with the appropriate compiler flags.\n",
      "2021-11-18 16:04:15.336784: I tensorflow/stream_executor/cuda/cuda_gpu_executor.cc:939] successful NUMA node read from SysFS had negative value (-1), but there must be at least one NUMA node, so returning NUMA node zero\n",
      "2021-11-18 16:04:15.337100: I tensorflow/stream_executor/cuda/cuda_gpu_executor.cc:939] successful NUMA node read from SysFS had negative value (-1), but there must be at least one NUMA node, so returning NUMA node zero\n",
      "2021-11-18 16:04:15.337390: I tensorflow/stream_executor/cuda/cuda_gpu_executor.cc:939] successful NUMA node read from SysFS had negative value (-1), but there must be at least one NUMA node, so returning NUMA node zero\n",
      "2021-11-18 16:04:15.884908: I tensorflow/stream_executor/cuda/cuda_gpu_executor.cc:939] successful NUMA node read from SysFS had negative value (-1), but there must be at least one NUMA node, so returning NUMA node zero\n",
      "2021-11-18 16:04:15.885318: I tensorflow/stream_executor/cuda/cuda_gpu_executor.cc:939] successful NUMA node read from SysFS had negative value (-1), but there must be at least one NUMA node, so returning NUMA node zero\n",
      "2021-11-18 16:04:15.885614: I tensorflow/stream_executor/cuda/cuda_gpu_executor.cc:939] successful NUMA node read from SysFS had negative value (-1), but there must be at least one NUMA node, so returning NUMA node zero\n",
      "2021-11-18 16:04:15.885885: I tensorflow/core/common_runtime/gpu/gpu_device.cc:1525] Created device /job:localhost/replica:0/task:0/device:GPU:0 with 9164 MB memory:  -> device: 0, name: NVIDIA GeForce RTX 3060, pci bus id: 0000:2b:00.0, compute capability: 8.6\n"
     ]
    },
    {
     "name": "stdout",
     "output_type": "stream",
     "text": [
      "Number of sequences: 55180\n"
     ]
    }
   ],
   "source": [
    "def generate_sequences(text, seq_length):\n",
    "    tokens = tokenizer.tokenize(text)\n",
    "    num_sequences = len(tokens) - seq_length\n",
    "    \n",
    "    x = []\n",
    "    x_token = np.zeros((num_sequences, seq_length+2))\n",
    "    x_mask = np.zeros((num_sequences, seq_length+2))\n",
    "    y_token = np.zeros((num_sequences, 50), dtype=np.float32)\n",
    "\n",
    "    for i in range(0, num_sequences):\n",
    "        seq = tokens[i:i + seq_length]\n",
    "        input = tokenizer.encode_plus(seq, max_length=seq_length+2, truncation=True, padding='max_length', add_special_tokens=True, return_tensors='tf')\n",
    "        \n",
    "        x.append(seq)\n",
    "        x_token[i, :] = input['input_ids']\n",
    "        x_mask[i, :] = input['attention_mask']\n",
    "        y_token[i, :] = get_embedding(tokens[i + seq_length])[0]\n",
    "\n",
    "    print(f'Number of sequences: {num_sequences}')\n",
    "\n",
    "    return x, x_token, x_mask, y_token, num_sequences\n",
    "\n",
    "seq_length = 20\n",
    "x, x_token, x_mask, y_token, num_sequences = generate_sequences(raw_text, seq_length)"
   ]
  },
  {
   "cell_type": "code",
   "execution_count": 11,
   "metadata": {},
   "outputs": [
    {
     "name": "stdout",
     "output_type": "stream",
     "text": [
      "[['the', 'wolf', 'and', 'the', 'lamb', 'wolf', ',', 'meeting', 'with', 'a', 'lamb', 'as', '##tray', 'from', 'the', 'fold', ',', 'resolved', 'not', 'to'], ['wolf', 'and', 'the', 'lamb', 'wolf', ',', 'meeting', 'with', 'a', 'lamb', 'as', '##tray', 'from', 'the', 'fold', ',', 'resolved', 'not', 'to', 'lay']]\n",
      "[[  101.  1996.  4702.  1998.  1996. 12559.  4702.  1010.  3116.  2007.\n",
      "   1037. 12559.  2004. 28473.  2013.  1996. 10671.  1010. 10395.  2025.\n",
      "   2000.   102.]\n",
      " [  101.  4702.  1998.  1996. 12559.  4702.  1010.  3116.  2007.  1037.\n",
      "  12559.  2004. 28473.  2013.  1996. 10671.  1010. 10395.  2025.  2000.\n",
      "   3913.   102.]]\n",
      "[[1. 1. 1. 1. 1. 1. 1. 1. 1. 1. 1. 1. 1. 1. 1. 1. 1. 1. 1. 1. 1. 1.]\n",
      " [1. 1. 1. 1. 1. 1. 1. 1. 1. 1. 1. 1. 1. 1. 1. 1. 1. 1. 1. 1. 1. 1.]]\n",
      "[[ 1.1417e+00  4.6283e-01  3.1850e-01 -1.0938e+00  7.7268e-01 -8.5313e-03\n",
      "  -2.7627e-01  1.9700e-01  2.5137e-01 -7.4092e-01 -5.2680e-01  6.7512e-02\n",
      "  -6.1951e-01  3.2295e-01 -2.9231e-01  2.7597e-01 -2.1011e-02 -4.3145e-01\n",
      "   8.1964e-01 -4.1744e-01 -3.3500e-01  2.3481e-01  7.0489e-01 -3.5527e-01\n",
      "  -4.2271e-01 -1.1781e+00 -4.7389e-01  3.5343e-01 -7.7644e-02 -2.8819e-01\n",
      "   2.1887e+00 -7.7166e-02 -5.3521e-01  3.7567e-01 -1.2167e-01 -1.0910e-01\n",
      "  -1.1022e-01  5.2403e-02  9.9741e-01  2.8786e-01 -6.2407e-01 -4.2667e-01\n",
      "  -1.5656e-04  6.4558e-01  4.8132e-01 -1.8291e-01 -5.5292e-01 -6.6174e-01\n",
      "  -2.7978e-01 -8.6844e-01]\n",
      " [ 3.4818e-01 -8.8657e-01 -2.6971e-01 -2.7064e-01 -4.9003e-01  4.8359e-01\n",
      "   9.5457e-01 -8.9255e-02 -6.2285e-01  1.1782e+00 -5.8385e-01 -1.2310e+00\n",
      "  -4.4248e-01  1.5747e-01  7.0326e-01 -6.0854e-01  2.2851e-02 -1.3363e-01\n",
      "  -6.0768e-01  2.8166e-01 -2.8764e-01  4.6183e-01  3.9595e-01  7.0407e-01\n",
      "  -3.4558e-01 -1.3530e+00  1.2247e-01 -2.7575e-01  1.1103e+00  8.5284e-01\n",
      "   2.8779e+00 -2.5105e-01 -2.2009e-01 -1.4588e+00 -5.2604e-01  3.6152e-01\n",
      "  -3.3094e-01 -1.6539e+00 -1.1313e+00  2.6021e-01 -1.1531e+00  6.0551e-01\n",
      "  -2.4659e-01  1.6711e-01  1.0962e+00 -4.0880e-01 -1.9643e-01 -4.8867e-01\n",
      "   2.8021e-01 -2.0419e-01]]\n"
     ]
    }
   ],
   "source": [
    "print(x[:2])\n",
    "print(x_token[:2])\n",
    "print(x_mask[:2])\n",
    "print(y_token[:2])"
   ]
  },
  {
   "cell_type": "markdown",
   "metadata": {},
   "source": [
    "## Convert individual datasets into a single dataset\n",
    "\n",
    "In order to use the BERT layer as input for the model, the tokens and masks need to be combined into a single input and given keys that match the name of the input layers. The dataset is then shuffled, batched, and split into training, validation, and test sets."
   ]
  },
  {
   "cell_type": "code",
   "execution_count": 12,
   "metadata": {},
   "outputs": [
    {
     "data": {
      "text/plain": [
       "<TakeDataset shapes: ((22,), (22,), (50,)), types: (tf.float64, tf.float64, tf.float32)>"
      ]
     },
     "execution_count": 12,
     "metadata": {},
     "output_type": "execute_result"
    }
   ],
   "source": [
    "dataset = tf.data.Dataset.from_tensor_slices((x_token, x_mask, y_token))\n",
    "dataset.take(1)"
   ]
  },
  {
   "cell_type": "code",
   "execution_count": 13,
   "metadata": {},
   "outputs": [
    {
     "data": {
      "text/plain": [
       "<TakeDataset shapes: ({input_ids: (22,), attention_mask: (22,)}, (50,)), types: ({input_ids: tf.float64, attention_mask: tf.float64}, tf.float32)>"
      ]
     },
     "execution_count": 13,
     "metadata": {},
     "output_type": "execute_result"
    }
   ],
   "source": [
    "def combine_input_mask(input_id, mask, y_token):\n",
    "    return {'input_ids': input_id, 'attention_mask': mask}, y_token\n",
    "\n",
    "dataset = dataset.map(combine_input_mask)\n",
    "dataset.take(1)\n"
   ]
  },
  {
   "cell_type": "code",
   "execution_count": 14,
   "metadata": {},
   "outputs": [
    {
     "data": {
      "text/plain": [
       "<TakeDataset shapes: ({input_ids: (32, 22), attention_mask: (32, 22)}, (32, 50)), types: ({input_ids: tf.float64, attention_mask: tf.float64}, tf.float32)>"
      ]
     },
     "execution_count": 14,
     "metadata": {},
     "output_type": "execute_result"
    }
   ],
   "source": [
    "batch_size = 32\n",
    "dataset = dataset.shuffle(10000).batch(batch_size, drop_remainder=True)\n",
    "dataset.take(1)"
   ]
  },
  {
   "cell_type": "code",
   "execution_count": 31,
   "metadata": {},
   "outputs": [
    {
     "name": "stdout",
     "output_type": "stream",
     "text": [
      "tensor: <TakeDataset shapes: ({input_ids: (32, 22), attention_mask: (32, 22)}, (32, 50)), types: ({input_ids: tf.float64, attention_mask: tf.float64}, tf.float32)>\n",
      "size: 1379\n",
      "tensor: <TakeDataset shapes: ({input_ids: (32, 22), attention_mask: (32, 22)}, (32, 50)), types: ({input_ids: tf.float64, attention_mask: tf.float64}, tf.float32)>\n",
      "size: 172\n",
      "tensor: <TakeDataset shapes: ({input_ids: (32, 22), attention_mask: (32, 22)}, (32, 50)), types: ({input_ids: tf.float64, attention_mask: tf.float64}, tf.float32)>\n",
      "size: 173\n"
     ]
    }
   ],
   "source": [
    "split = 0.8\n",
    "sample_size = int((num_sequences // batch_size) * split)\n",
    "ds_train = dataset.take(sample_size)\n",
    "dataset_validation = dataset.skip(sample_size)\n",
    "\n",
    "test_split = 0.5\n",
    "testset_size = len(list(dataset_validation))\n",
    "val_sample_size = int(testset_size * test_split)\n",
    "ds_val = dataset_validation.take(val_sample_size)\n",
    "ds_test = dataset_validation.skip(val_sample_size)\n",
    "print(f'tensor: {ds_train.take(1)}\\nsize: {len(list(ds_train))}')\n",
    "print(f'tensor: {ds_val.take(1)}\\nsize: {len(list(ds_val))}')\n",
    "print(f'tensor: {ds_test.take(1)}\\nsize: {len(list(ds_test))}')"
   ]
  },
  {
   "cell_type": "markdown",
   "metadata": {},
   "source": [
    "## Construct the model\n",
    "\n",
    "The model uses uncases BERT as the encoder and uses a linear layer to generate the next word. The model is trained using the Adam optimizer and the cross-entropy loss. Usually the model is categorical and uses softmax for the last Dense logit layer, but in this case we are building a regression model and want the output to most closely match the true word embedding."
   ]
  },
  {
   "cell_type": "code",
   "execution_count": 32,
   "metadata": {},
   "outputs": [
    {
     "name": "stderr",
     "output_type": "stream",
     "text": [
      "2021-11-18 16:21:56.263304: I tensorflow/stream_executor/cuda/cuda_blas.cc:1774] TensorFloat-32 will be used for the matrix multiplication. This will only be logged once.\n",
      "Some layers from the model checkpoint at bert-base-uncased were not used when initializing TFBertModel: ['mlm___cls', 'nsp___cls']\n",
      "- This IS expected if you are initializing TFBertModel from the checkpoint of a model trained on another task or with another architecture (e.g. initializing a BertForSequenceClassification model from a BertForPreTraining model).\n",
      "- This IS NOT expected if you are initializing TFBertModel from the checkpoint of a model that you expect to be exactly identical (initializing a BertForSequenceClassification model from a BertForSequenceClassification model).\n",
      "All the layers of TFBertModel were initialized from the model checkpoint at bert-base-uncased.\n",
      "If your task is similar to the task the model of the checkpoint was trained on, you can already use TFBertModel for predictions without further training.\n"
     ]
    }
   ],
   "source": [
    "bert = TFBertModel.from_pretrained('bert-base-uncased')"
   ]
  },
  {
   "cell_type": "code",
   "execution_count": 33,
   "metadata": {},
   "outputs": [
    {
     "name": "stdout",
     "output_type": "stream",
     "text": [
      "Model: \"model\"\n",
      "__________________________________________________________________________________________________\n",
      " Layer (type)                   Output Shape         Param #     Connected to                     \n",
      "==================================================================================================\n",
      " input_ids (InputLayer)         [(None, 22)]         0           []                               \n",
      "                                                                                                  \n",
      " attention_mask (InputLayer)    [(None, 22)]         0           []                               \n",
      "                                                                                                  \n",
      " bert (TFBertMainLayer)         TFBaseModelOutputWi  109482240   ['input_ids[0][0]',              \n",
      "                                thPoolingAndCrossAt               'attention_mask[0][0]']         \n",
      "                                tentions(last_hidde                                               \n",
      "                                n_state=(None, 22,                                                \n",
      "                                768),                                                             \n",
      "                                 pooler_output=(Non                                               \n",
      "                                e, 768),                                                          \n",
      "                                 past_key_values=No                                               \n",
      "                                ne, hidden_states=N                                               \n",
      "                                one, attentions=Non                                               \n",
      "                                e, cross_attentions                                               \n",
      "                                =None)                                                            \n",
      "                                                                                                  \n",
      " dense (Dense)                  (None, 1024)         787456      ['bert[0][1]']                   \n",
      "                                                                                                  \n",
      " dropout_37 (Dropout)           (None, 1024)         0           ['dense[0][0]']                  \n",
      "                                                                                                  \n",
      " dense_1 (Dense)                (None, 50)           51250       ['dropout_37[0][0]']             \n",
      "                                                                                                  \n",
      "==================================================================================================\n",
      "Total params: 110,320,946\n",
      "Trainable params: 838,706\n",
      "Non-trainable params: 109,482,240\n",
      "__________________________________________________________________________________________________\n"
     ]
    }
   ],
   "source": [
    "input_layer = Input(shape=(seq_length+2,), name='input_ids', dtype=tf.int32)\n",
    "mask_layer = Input(shape=(seq_length+2,),\n",
    "                   name='attention_mask', dtype=tf.int32)\n",
    "\n",
    "embedding_layer = bert.bert(input_layer, attention_mask=mask_layer)[1]\n",
    "\n",
    "out = Dense(1024, activation='relu')(embedding_layer)\n",
    "out = Dropout(0.2)(out)\n",
    "out = Dense(50)(out)\n",
    "\n",
    "model = Model(inputs=[input_layer, mask_layer], outputs=out)\n",
    "\n",
    "model.layers[2].trainable = False\n",
    "\n",
    "optimizer = SGD(learning_rate=0.00009, decay=1e-6)\n",
    "model.compile(optimizer=optimizer,\n",
    "              loss=tf.losses.mean_squared_error, metrics=['accuracy'])\n",
    "\n",
    "model.summary()\n"
   ]
  },
  {
   "cell_type": "code",
   "execution_count": 34,
   "metadata": {},
   "outputs": [
    {
     "name": "stdout",
     "output_type": "stream",
     "text": [
      "Epoch 1/100\n",
      "1379/1379 [==============================] - 58s 39ms/step - loss: 0.4908 - accuracy: 0.6605 - val_loss: 0.3448 - val_accuracy: 0.7889\n",
      "Epoch 2/100\n",
      "1379/1379 [==============================] - 49s 36ms/step - loss: 0.3618 - accuracy: 0.8228 - val_loss: 0.3208 - val_accuracy: 0.7943\n",
      "Epoch 3/100\n",
      "1379/1379 [==============================] - 54s 39ms/step - loss: 0.3461 - accuracy: 0.8274 - val_loss: 0.3172 - val_accuracy: 0.7998\n",
      "Epoch 4/100\n",
      "1379/1379 [==============================] - 55s 40ms/step - loss: 0.3374 - accuracy: 0.8328 - val_loss: 0.3086 - val_accuracy: 0.8049\n",
      "Epoch 5/100\n",
      "1379/1379 [==============================] - 49s 35ms/step - loss: 0.3317 - accuracy: 0.8346 - val_loss: 0.3107 - val_accuracy: 0.8009\n",
      "Epoch 6/100\n",
      "1379/1379 [==============================] - 47s 34ms/step - loss: 0.3261 - accuracy: 0.8373 - val_loss: 0.3094 - val_accuracy: 0.7958\n",
      "Epoch 7/100\n",
      "1379/1379 [==============================] - 47s 34ms/step - loss: 0.3228 - accuracy: 0.8374 - val_loss: 0.3100 - val_accuracy: 0.8034\n",
      "Epoch 8/100\n",
      "1379/1379 [==============================] - 47s 34ms/step - loss: 0.3185 - accuracy: 0.8387 - val_loss: 0.3086 - val_accuracy: 0.8049\n",
      "Epoch 9/100\n",
      "1379/1379 [==============================] - 48s 35ms/step - loss: 0.3158 - accuracy: 0.8382 - val_loss: 0.3075 - val_accuracy: 0.7998\n",
      "Epoch 10/100\n",
      "1379/1379 [==============================] - 48s 35ms/step - loss: 0.3123 - accuracy: 0.8378 - val_loss: 0.3003 - val_accuracy: 0.8060\n",
      "Epoch 11/100\n",
      "1379/1379 [==============================] - 48s 34ms/step - loss: 0.3102 - accuracy: 0.8378 - val_loss: 0.3011 - val_accuracy: 0.8063\n",
      "Epoch 12/100\n",
      "1379/1379 [==============================] - 48s 35ms/step - loss: 0.3076 - accuracy: 0.8388 - val_loss: 0.3019 - val_accuracy: 0.8023\n",
      "Epoch 13/100\n",
      "1379/1379 [==============================] - 48s 35ms/step - loss: 0.3051 - accuracy: 0.8390 - val_loss: 0.2966 - val_accuracy: 0.8070\n",
      "Epoch 14/100\n",
      "1379/1379 [==============================] - 53s 38ms/step - loss: 0.3029 - accuracy: 0.8378 - val_loss: 0.3025 - val_accuracy: 0.7925\n",
      "Epoch 15/100\n",
      "1379/1379 [==============================] - 53s 38ms/step - loss: 0.3009 - accuracy: 0.8376 - val_loss: 0.2950 - val_accuracy: 0.8110\n",
      "Epoch 16/100\n",
      "1379/1379 [==============================] - 49s 35ms/step - loss: 0.2987 - accuracy: 0.8395 - val_loss: 0.2982 - val_accuracy: 0.8056\n",
      "Epoch 17/100\n",
      "1379/1379 [==============================] - 48s 34ms/step - loss: 0.2978 - accuracy: 0.8372 - val_loss: 0.2977 - val_accuracy: 0.8032\n",
      "Epoch 18/100\n",
      "1379/1379 [==============================] - 49s 36ms/step - loss: 0.2960 - accuracy: 0.8383 - val_loss: 0.2987 - val_accuracy: 0.8049\n",
      "Epoch 19/100\n",
      "1379/1379 [==============================] - 48s 35ms/step - loss: 0.2947 - accuracy: 0.8379 - val_loss: 0.2942 - val_accuracy: 0.8085\n",
      "Epoch 20/100\n",
      "1379/1379 [==============================] - 47s 34ms/step - loss: 0.2935 - accuracy: 0.8379 - val_loss: 0.2982 - val_accuracy: 0.7996\n",
      "Epoch 21/100\n",
      "1379/1379 [==============================] - 48s 35ms/step - loss: 0.2911 - accuracy: 0.8394 - val_loss: 0.2966 - val_accuracy: 0.8025\n",
      "Epoch 22/100\n",
      "1379/1379 [==============================] - 48s 35ms/step - loss: 0.2909 - accuracy: 0.8381 - val_loss: 0.2975 - val_accuracy: 0.8034\n",
      "Epoch 23/100\n",
      "1379/1379 [==============================] - 49s 35ms/step - loss: 0.2896 - accuracy: 0.8381 - val_loss: 0.2958 - val_accuracy: 0.8038\n",
      "Epoch 24/100\n",
      "1379/1379 [==============================] - 47s 34ms/step - loss: 0.2884 - accuracy: 0.8377 - val_loss: 0.2930 - val_accuracy: 0.8105\n",
      "Epoch 25/100\n",
      "1379/1379 [==============================] - 47s 34ms/step - loss: 0.2871 - accuracy: 0.8390 - val_loss: 0.2939 - val_accuracy: 0.8087\n",
      "Epoch 26/100\n",
      "1379/1379 [==============================] - 49s 36ms/step - loss: 0.2861 - accuracy: 0.8383 - val_loss: 0.2990 - val_accuracy: 0.8005\n",
      "Epoch 27/100\n",
      "1379/1379 [==============================] - 48s 35ms/step - loss: 0.2853 - accuracy: 0.8379 - val_loss: 0.2967 - val_accuracy: 0.8011\n",
      "Epoch 28/100\n",
      "1379/1379 [==============================] - 47s 34ms/step - loss: 0.2842 - accuracy: 0.8388 - val_loss: 0.2921 - val_accuracy: 0.8080\n",
      "Epoch 29/100\n",
      "1379/1379 [==============================] - 47s 34ms/step - loss: 0.2833 - accuracy: 0.8389 - val_loss: 0.2919 - val_accuracy: 0.8092\n",
      "Epoch 30/100\n",
      "1379/1379 [==============================] - 47s 34ms/step - loss: 0.2821 - accuracy: 0.8383 - val_loss: 0.2954 - val_accuracy: 0.7980\n",
      "Epoch 31/100\n",
      "1379/1379 [==============================] - 47s 34ms/step - loss: 0.2821 - accuracy: 0.8378 - val_loss: 0.2947 - val_accuracy: 0.8031\n",
      "Epoch 32/100\n",
      "1379/1379 [==============================] - 48s 35ms/step - loss: 0.2818 - accuracy: 0.8377 - val_loss: 0.2914 - val_accuracy: 0.8096\n",
      "Epoch 33/100\n",
      "1379/1379 [==============================] - 49s 35ms/step - loss: 0.2801 - accuracy: 0.8389 - val_loss: 0.2922 - val_accuracy: 0.8052\n",
      "Epoch 34/100\n",
      "1379/1379 [==============================] - 50s 36ms/step - loss: 0.2795 - accuracy: 0.8386 - val_loss: 0.2956 - val_accuracy: 0.8007\n",
      "Epoch 35/100\n",
      "1379/1379 [==============================] - 49s 36ms/step - loss: 0.2792 - accuracy: 0.8384 - val_loss: 0.2938 - val_accuracy: 0.8076\n",
      "Epoch 36/100\n",
      "1379/1379 [==============================] - 48s 35ms/step - loss: 0.2788 - accuracy: 0.8383 - val_loss: 0.2940 - val_accuracy: 0.8052\n",
      "Epoch 37/100\n",
      "1379/1379 [==============================] - 49s 35ms/step - loss: 0.2778 - accuracy: 0.8386 - val_loss: 0.2956 - val_accuracy: 0.8003\n",
      "Epoch 00037: early stopping\n"
     ]
    }
   ],
   "source": [
    "es = EarlyStopping(monitor='val_loss', mode='min', verbose=1, patience=5)\n",
    "\n",
    "history = model.fit(ds_train, validation_data=ds_val,\n",
    "                    batch_size=64, epochs=100, shuffle=True, verbose=1, callbacks=[es])"
   ]
  },
  {
   "cell_type": "code",
   "execution_count": 35,
   "metadata": {},
   "outputs": [
    {
     "name": "stdout",
     "output_type": "stream",
     "text": [
      "Accuracy: 80.51%\n"
     ]
    }
   ],
   "source": [
    "loss, accuracy = model.evaluate(ds_test, verbose=0)\n",
    "print(\"Accuracy: {:.2f}%\".format(accuracy * 100))"
   ]
  },
  {
   "cell_type": "code",
   "execution_count": 36,
   "metadata": {},
   "outputs": [
    {
     "data": {
      "image/png": "[encoded data removed]",
      "text/plain": [
       "<Figure size 432x288 with 1 Axes>"
      ]
     },
     "metadata": {
      "needs_background": "light"
     },
     "output_type": "display_data"
    }
   ],
   "source": [
    "plt.plot(history.history['loss'], label='train')\n",
    "plt.plot(history.history['val_loss'], label='test')\n",
    "plt.legend()\n",
    "plt.show()"
   ]
  },
  {
   "cell_type": "code",
   "execution_count": null,
   "metadata": {},
   "outputs": [],
   "source": []
  }
 ],
 "metadata": {
  "interpreter": {
   "hash": "31f2aee4e71d21fbe5cf8b01ff0e069b9275f58929596ceb00d14d90e3e16cd6"
  },
  "kernelspec": {
   "display_name": "Python 3.9.2 64-bit",
   "language": "python",
   "name": "python3"
  },
  "language_info": {
   "codemirror_mode": {
    "name": "ipython",
    "version": 3
   },
   "file_extension": ".py",
   "mimetype": "text/x-python",
   "name": "python",
   "nbconvert_exporter": "python",
   "pygments_lexer": "ipython3",
   "version": "3.9.8"
  },
  "orig_nbformat": 4
 },
 "nbformat": 4,
 "nbformat_minor": 2
}

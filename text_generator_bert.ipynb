{
 "cells": [
  {
   "cell_type": "markdown",
   "metadata": {},
   "source": [
    "# Text Generation with Embeddings\n",
    "\n",
    "Setup file with the necessary imports"
   ]
  },
  {
   "cell_type": "code",
   "execution_count": 1,
   "metadata": {},
   "outputs": [],
   "source": [
    "import re\n",
    "import tensorflow as tf\n",
    "import numpy as np\n",
    "\n",
    "from transformers import TFBertModel, BertTokenizer\n",
    "from tensorflow.keras.layers import Dense, Dropout, Input\n",
    "from tensorflow.keras.models import Model\n",
    "from tensorflow.keras.optimizers import Adam, SGD\n",
    "from tensorflow.keras.callbacks import EarlyStopping, ModelCheckpoint\n",
    "from sklearn.metrics.pairwise import cosine_similarity\n"
   ]
  },
  {
   "cell_type": "code",
   "execution_count": 2,
   "metadata": {},
   "outputs": [],
   "source": [
    "import matplotlib.pyplot as plt\n",
    "%matplotlib inline"
   ]
  },
  {
   "cell_type": "markdown",
   "metadata": {},
   "source": [
    "## Import the dataset\n",
    "\n",
    "The dataset is the book \"\" as a textfile. The orginal text from gutenberg is available at [http://www.gutenberg.org/ebooks/1661](http://www.gutenberg.org/ebooks/1661). The text contained a header that was removed in the this project."
   ]
  },
  {
   "cell_type": "code",
   "execution_count": 3,
   "metadata": {},
   "outputs": [],
   "source": [
    "filename = 'data/raw_text/aesop_fable.txt'\n",
    "\n",
    "with open(filename, 'r', encoding='utf-8-sig') as f:\n",
    "    raw_text = f.read()"
   ]
  },
  {
   "cell_type": "code",
   "execution_count": 4,
   "metadata": {},
   "outputs": [
    {
     "name": "stdout",
     "output_type": "stream",
     "text": [
      "The Wolf A\n"
     ]
    }
   ],
   "source": [
    "print(raw_text[:10])"
   ]
  },
  {
   "cell_type": "markdown",
   "metadata": {},
   "source": [
    "## Import GloVe Embeddings\n",
    "\n",
    "The GloVe embeddings are available at [http://nlp.stanford.edu/data/glove.6B.zip](http://nlp.stanford.edu/data/glove.6B.zip). The embeddings are in a textfile and can be loaded using the following code. The embeddings used here are the 50 dimensional embeddings and are stored in a dictionary. There are also two other dictionaries that contain the word to index and index to word mappings to make the embeddings easy to lookup by word and be able to convert tokens to words."
   ]
  },
  {
   "cell_type": "code",
   "execution_count": 5,
   "metadata": {},
   "outputs": [
    {
     "name": "stdout",
     "output_type": "stream",
     "text": [
      "Bad lines: 0\n"
     ]
    }
   ],
   "source": [
    "file_name = \"data/GloVe/glove.6B.50d.txt\"\n",
    "\n",
    "embedding = {}\n",
    "idx_to_word = {}\n",
    "word_to_idx = {}\n",
    "bad_lines = 0\n",
    "\n",
    "with open(file_name, 'r', encoding='UTF-8') as f:\n",
    "    for idx, line in enumerate(f):\n",
    "        try:\n",
    "            line = line.strip()\n",
    "            match_obj = re.match(r'([^\\s]+)', line)\n",
    "            word = match_obj.group(1)\n",
    "            word_len = len(word)\n",
    "            word_vec = line[word_len:].replace('\\n', '')\n",
    "\n",
    "            embed = word_vec.strip()\n",
    "            embed = embed.split()\n",
    "            embed = np.array(embed, dtype=np.float32)\n",
    "            \n",
    "            embedding[idx] = [embed]\n",
    "            idx_to_word[idx] = word.strip()\n",
    "            word_to_idx[word.strip()] = idx\n",
    "        except:\n",
    "            bad_lines += 1\n",
    "\n",
    "print(f'Bad lines: {bad_lines}')"
   ]
  },
  {
   "cell_type": "code",
   "execution_count": 6,
   "metadata": {},
   "outputs": [
    {
     "data": {
      "text/plain": [
       "array([[0.8778121]], dtype=float32)"
      ]
     },
     "execution_count": 6,
     "metadata": {},
     "output_type": "execute_result"
    }
   ],
   "source": [
    "w1 = 'waiter'\n",
    "w2 = 'waitress'\n",
    "\n",
    "w1_embed = embedding[word_to_idx[w1]]\n",
    "w2_embed = embedding[word_to_idx[w2]]\n",
    "cosine_similarity(w1_embed, w2_embed)"
   ]
  },
  {
   "cell_type": "markdown",
   "metadata": {},
   "source": [
    "## Generate the Dataset\n",
    "\n",
    "The dataset for this project is the text file sliced into arrays of 20 words and the label is the next word in the array. The input data is stored initially in three lists:\n",
    "\n",
    "- `x_token`: a list of the tokenized words (as BERT tokens)\n",
    "- `x_mask`: list containing the mask for the input data\n",
    "- `y`: the next word in the array as a BERT token\n",
    "\n",
    "Even though the GloVe embedding dataset contains 400,000 words, BERT tokens are stemmed and contain unconventional words with artifacts like `#`. To ensure that an embedding can be generated for every predicted word, a out-of-vocabulary words are replaced with the word \"umm\". We'll see how this goes."
   ]
  },
  {
   "cell_type": "code",
   "execution_count": 7,
   "metadata": {},
   "outputs": [],
   "source": [
    "tokenizer = BertTokenizer.from_pretrained('bert-base-uncased')"
   ]
  },
  {
   "cell_type": "code",
   "execution_count": 8,
   "metadata": {},
   "outputs": [],
   "source": [
    "def get_embedding(word):\n",
    "    if word in word_to_idx:\n",
    "        return embedding[word_to_idx[word]]\n",
    "    else:\n",
    "        return embedding[word_to_idx['umm']]"
   ]
  },
  {
   "cell_type": "code",
   "execution_count": 9,
   "metadata": {},
   "outputs": [
    {
     "name": "stderr",
     "output_type": "stream",
     "text": [
      "2021-11-18 22:35:20.385674: I tensorflow/stream_executor/cuda/cuda_gpu_executor.cc:939] successful NUMA node read from SysFS had negative value (-1), but there must be at least one NUMA node, so returning NUMA node zero\n",
      "2021-11-18 22:35:20.418274: I tensorflow/stream_executor/cuda/cuda_gpu_executor.cc:939] successful NUMA node read from SysFS had negative value (-1), but there must be at least one NUMA node, so returning NUMA node zero\n",
      "2021-11-18 22:35:20.418781: I tensorflow/stream_executor/cuda/cuda_gpu_executor.cc:939] successful NUMA node read from SysFS had negative value (-1), but there must be at least one NUMA node, so returning NUMA node zero\n",
      "2021-11-18 22:35:20.420572: I tensorflow/core/platform/cpu_feature_guard.cc:151] This TensorFlow binary is optimized with oneAPI Deep Neural Network Library (oneDNN) to use the following CPU instructions in performance-critical operations:  AVX2 FMA\n",
      "To enable them in other operations, rebuild TensorFlow with the appropriate compiler flags.\n",
      "2021-11-18 22:35:20.422082: I tensorflow/stream_executor/cuda/cuda_gpu_executor.cc:939] successful NUMA node read from SysFS had negative value (-1), but there must be at least one NUMA node, so returning NUMA node zero\n",
      "2021-11-18 22:35:20.422599: I tensorflow/stream_executor/cuda/cuda_gpu_executor.cc:939] successful NUMA node read from SysFS had negative value (-1), but there must be at least one NUMA node, so returning NUMA node zero\n",
      "2021-11-18 22:35:20.423215: I tensorflow/stream_executor/cuda/cuda_gpu_executor.cc:939] successful NUMA node read from SysFS had negative value (-1), but there must be at least one NUMA node, so returning NUMA node zero\n",
      "2021-11-18 22:35:21.006451: I tensorflow/stream_executor/cuda/cuda_gpu_executor.cc:939] successful NUMA node read from SysFS had negative value (-1), but there must be at least one NUMA node, so returning NUMA node zero\n",
      "2021-11-18 22:35:21.006799: I tensorflow/stream_executor/cuda/cuda_gpu_executor.cc:939] successful NUMA node read from SysFS had negative value (-1), but there must be at least one NUMA node, so returning NUMA node zero\n",
      "2021-11-18 22:35:21.007107: I tensorflow/stream_executor/cuda/cuda_gpu_executor.cc:939] successful NUMA node read from SysFS had negative value (-1), but there must be at least one NUMA node, so returning NUMA node zero\n",
      "2021-11-18 22:35:21.007394: I tensorflow/core/common_runtime/gpu/gpu_device.cc:1525] Created device /job:localhost/replica:0/task:0/device:GPU:0 with 9541 MB memory:  -> device: 0, name: NVIDIA GeForce RTX 3060, pci bus id: 0000:2b:00.0, compute capability: 8.6\n"
     ]
    },
    {
     "name": "stdout",
     "output_type": "stream",
     "text": [
      "Number of sequences: 55180\n"
     ]
    }
   ],
   "source": [
    "def generate_sequences(text, seq_length):\n",
    "    tokens = tokenizer.tokenize(text)\n",
    "    num_sequences = len(tokens) - seq_length\n",
    "\n",
    "    x_token = np.zeros((num_sequences, seq_length+2))\n",
    "    x_mask = np.zeros((num_sequences, seq_length+2))\n",
    "    y_token = np.zeros((num_sequences, 50), dtype=np.float32)\n",
    "\n",
    "    for i in range(0, num_sequences):\n",
    "        seq = tokens[i:i + seq_length]\n",
    "        input = tokenizer.encode_plus(seq, max_length=seq_length+2, truncation=True, padding='max_length', add_special_tokens=True, return_tensors='tf')\n",
    "\n",
    "        x_token[i, :] = input['input_ids']\n",
    "        x_mask[i, :] = input['attention_mask']\n",
    "        y_token[i, :] = get_embedding(tokens[i + seq_length])[0]\n",
    "\n",
    "    print(f'Number of sequences: {num_sequences}')\n",
    "\n",
    "    return x_token, x_mask, y_token, num_sequences\n",
    "\n",
    "seq_length = 20\n",
    "x_token, x_mask, y_token, num_sequences = generate_sequences(raw_text, seq_length)"
   ]
  },
  {
   "cell_type": "code",
   "execution_count": 10,
   "metadata": {},
   "outputs": [
    {
     "name": "stdout",
     "output_type": "stream",
     "text": [
      "[[  101.  1996.  4702.  1998.  1996. 12559.  4702.  1010.  3116.  2007.\n",
      "   1037. 12559.  2004. 28473.  2013.  1996. 10671.  1010. 10395.  2025.\n",
      "   2000.   102.]\n",
      " [  101.  4702.  1998.  1996. 12559.  4702.  1010.  3116.  2007.  1037.\n",
      "  12559.  2004. 28473.  2013.  1996. 10671.  1010. 10395.  2025.  2000.\n",
      "   3913.   102.]]\n",
      "[[1. 1. 1. 1. 1. 1. 1. 1. 1. 1. 1. 1. 1. 1. 1. 1. 1. 1. 1. 1. 1. 1.]\n",
      " [1. 1. 1. 1. 1. 1. 1. 1. 1. 1. 1. 1. 1. 1. 1. 1. 1. 1. 1. 1. 1. 1.]]\n",
      "[[ 1.1417e+00  4.6283e-01  3.1850e-01 -1.0938e+00  7.7268e-01 -8.5313e-03\n",
      "  -2.7627e-01  1.9700e-01  2.5137e-01 -7.4092e-01 -5.2680e-01  6.7512e-02\n",
      "  -6.1951e-01  3.2295e-01 -2.9231e-01  2.7597e-01 -2.1011e-02 -4.3145e-01\n",
      "   8.1964e-01 -4.1744e-01 -3.3500e-01  2.3481e-01  7.0489e-01 -3.5527e-01\n",
      "  -4.2271e-01 -1.1781e+00 -4.7389e-01  3.5343e-01 -7.7644e-02 -2.8819e-01\n",
      "   2.1887e+00 -7.7166e-02 -5.3521e-01  3.7567e-01 -1.2167e-01 -1.0910e-01\n",
      "  -1.1022e-01  5.2403e-02  9.9741e-01  2.8786e-01 -6.2407e-01 -4.2667e-01\n",
      "  -1.5656e-04  6.4558e-01  4.8132e-01 -1.8291e-01 -5.5292e-01 -6.6174e-01\n",
      "  -2.7978e-01 -8.6844e-01]\n",
      " [ 3.4818e-01 -8.8657e-01 -2.6971e-01 -2.7064e-01 -4.9003e-01  4.8359e-01\n",
      "   9.5457e-01 -8.9255e-02 -6.2285e-01  1.1782e+00 -5.8385e-01 -1.2310e+00\n",
      "  -4.4248e-01  1.5747e-01  7.0326e-01 -6.0854e-01  2.2851e-02 -1.3363e-01\n",
      "  -6.0768e-01  2.8166e-01 -2.8764e-01  4.6183e-01  3.9595e-01  7.0407e-01\n",
      "  -3.4558e-01 -1.3530e+00  1.2247e-01 -2.7575e-01  1.1103e+00  8.5284e-01\n",
      "   2.8779e+00 -2.5105e-01 -2.2009e-01 -1.4588e+00 -5.2604e-01  3.6152e-01\n",
      "  -3.3094e-01 -1.6539e+00 -1.1313e+00  2.6021e-01 -1.1531e+00  6.0551e-01\n",
      "  -2.4659e-01  1.6711e-01  1.0962e+00 -4.0880e-01 -1.9643e-01 -4.8867e-01\n",
      "   2.8021e-01 -2.0419e-01]]\n"
     ]
    }
   ],
   "source": [
    "print(x_token[:2])\n",
    "print(x_mask[:2])\n",
    "print(y_token[:2])"
   ]
  },
  {
   "cell_type": "markdown",
   "metadata": {},
   "source": [
    "## Convert individual datasets into a single dataset\n",
    "\n",
    "In order to use the BERT layer as input for the model, the tokens and masks need to be combined into a single input and given keys that match the name of the input layers. The dataset is then shuffled, batched, and split into training, validation, and test sets."
   ]
  },
  {
   "cell_type": "code",
   "execution_count": 11,
   "metadata": {},
   "outputs": [
    {
     "data": {
      "text/plain": [
       "<TakeDataset shapes: ((22,), (22,), (50,)), types: (tf.float64, tf.float64, tf.float32)>"
      ]
     },
     "execution_count": 11,
     "metadata": {},
     "output_type": "execute_result"
    }
   ],
   "source": [
    "dataset = tf.data.Dataset.from_tensor_slices((x_token, x_mask, y_token))\n",
    "dataset.take(1)"
   ]
  },
  {
   "cell_type": "code",
   "execution_count": 12,
   "metadata": {},
   "outputs": [
    {
     "data": {
      "text/plain": [
       "<TakeDataset shapes: ({input_ids: (22,), attention_mask: (22,)}, (50,)), types: ({input_ids: tf.float64, attention_mask: tf.float64}, tf.float32)>"
      ]
     },
     "execution_count": 12,
     "metadata": {},
     "output_type": "execute_result"
    }
   ],
   "source": [
    "def combine_input_mask(input_id, mask, y_token):\n",
    "    return {'input_ids': input_id, 'attention_mask': mask}, y_token\n",
    "\n",
    "dataset = dataset.map(combine_input_mask)\n",
    "dataset.take(1)\n"
   ]
  },
  {
   "cell_type": "code",
   "execution_count": 13,
   "metadata": {},
   "outputs": [
    {
     "data": {
      "text/plain": [
       "<TakeDataset shapes: ({input_ids: (32, 22), attention_mask: (32, 22)}, (32, 50)), types: ({input_ids: tf.float64, attention_mask: tf.float64}, tf.float32)>"
      ]
     },
     "execution_count": 13,
     "metadata": {},
     "output_type": "execute_result"
    }
   ],
   "source": [
    "batch_size = 32\n",
    "dataset = dataset.shuffle(10000).batch(batch_size, drop_remainder=True)\n",
    "dataset.take(1)"
   ]
  },
  {
   "cell_type": "code",
   "execution_count": 14,
   "metadata": {},
   "outputs": [
    {
     "name": "stdout",
     "output_type": "stream",
     "text": [
      "tensor: <TakeDataset shapes: ({input_ids: (32, 22), attention_mask: (32, 22)}, (32, 50)), types: ({input_ids: tf.float64, attention_mask: tf.float64}, tf.float32)>\n",
      "size: 1379\n",
      "tensor: <TakeDataset shapes: ({input_ids: (32, 22), attention_mask: (32, 22)}, (32, 50)), types: ({input_ids: tf.float64, attention_mask: tf.float64}, tf.float32)>\n",
      "size: 172\n",
      "tensor: <TakeDataset shapes: ({input_ids: (32, 22), attention_mask: (32, 22)}, (32, 50)), types: ({input_ids: tf.float64, attention_mask: tf.float64}, tf.float32)>\n",
      "size: 173\n"
     ]
    }
   ],
   "source": [
    "split = 0.8\n",
    "sample_size = int((num_sequences // batch_size) * split)\n",
    "ds_train = dataset.take(sample_size)\n",
    "dataset_validation = dataset.skip(sample_size)\n",
    "\n",
    "test_split = 0.5\n",
    "testset_size = len(list(dataset_validation))\n",
    "val_sample_size = int(testset_size * test_split)\n",
    "ds_val = dataset_validation.take(val_sample_size)\n",
    "ds_test = dataset_validation.skip(val_sample_size)\n",
    "print(f'tensor: {ds_train.take(1)}\\nsize: {len(list(ds_train))}')\n",
    "print(f'tensor: {ds_val.take(1)}\\nsize: {len(list(ds_val))}')\n",
    "print(f'tensor: {ds_test.take(1)}\\nsize: {len(list(ds_test))}')"
   ]
  },
  {
   "cell_type": "markdown",
   "metadata": {},
   "source": [
    "## Construct the model\n",
    "\n",
    "The model uses uncases BERT as the encoder and uses a linear layer to generate the next word. The model is trained using the Adam optimizer and the cross-entropy loss. Usually the model is categorical and uses softmax for the last Dense logit layer, but in this case we are building a regression model and want the output to most closely match the true word embedding."
   ]
  },
  {
   "cell_type": "code",
   "execution_count": 15,
   "metadata": {},
   "outputs": [
    {
     "name": "stderr",
     "output_type": "stream",
     "text": [
      "2021-11-18 22:35:38.757220: I tensorflow/stream_executor/cuda/cuda_blas.cc:1774] TensorFloat-32 will be used for the matrix multiplication. This will only be logged once.\n",
      "Some layers from the model checkpoint at bert-base-uncased were not used when initializing TFBertModel: ['nsp___cls', 'mlm___cls']\n",
      "- This IS expected if you are initializing TFBertModel from the checkpoint of a model trained on another task or with another architecture (e.g. initializing a BertForSequenceClassification model from a BertForPreTraining model).\n",
      "- This IS NOT expected if you are initializing TFBertModel from the checkpoint of a model that you expect to be exactly identical (initializing a BertForSequenceClassification model from a BertForSequenceClassification model).\n",
      "All the layers of TFBertModel were initialized from the model checkpoint at bert-base-uncased.\n",
      "If your task is similar to the task the model of the checkpoint was trained on, you can already use TFBertModel for predictions without further training.\n"
     ]
    }
   ],
   "source": [
    "bert = TFBertModel.from_pretrained('bert-base-uncased')"
   ]
  },
  {
   "cell_type": "code",
   "execution_count": 16,
   "metadata": {},
   "outputs": [
    {
     "name": "stdout",
     "output_type": "stream",
     "text": [
      "Model: \"model\"\n",
      "__________________________________________________________________________________________________\n",
      " Layer (type)                   Output Shape         Param #     Connected to                     \n",
      "==================================================================================================\n",
      " input_ids (InputLayer)         [(None, 22)]         0           []                               \n",
      "                                                                                                  \n",
      " attention_mask (InputLayer)    [(None, 22)]         0           []                               \n",
      "                                                                                                  \n",
      " bert (TFBertMainLayer)         TFBaseModelOutputWi  109482240   ['input_ids[0][0]',              \n",
      "                                thPoolingAndCrossAt               'attention_mask[0][0]']         \n",
      "                                tentions(last_hidde                                               \n",
      "                                n_state=(None, 22,                                                \n",
      "                                768),                                                             \n",
      "                                 pooler_output=(Non                                               \n",
      "                                e, 768),                                                          \n",
      "                                 past_key_values=No                                               \n",
      "                                ne, hidden_states=N                                               \n",
      "                                one, attentions=Non                                               \n",
      "                                e, cross_attentions                                               \n",
      "                                =None)                                                            \n",
      "                                                                                                  \n",
      " dense (Dense)                  (None, 1024)         787456      ['bert[0][1]']                   \n",
      "                                                                                                  \n",
      " dropout_37 (Dropout)           (None, 1024)         0           ['dense[0][0]']                  \n",
      "                                                                                                  \n",
      " dense_1 (Dense)                (None, 50)           51250       ['dropout_37[0][0]']             \n",
      "                                                                                                  \n",
      "==================================================================================================\n",
      "Total params: 110,320,946\n",
      "Trainable params: 838,706\n",
      "Non-trainable params: 109,482,240\n",
      "__________________________________________________________________________________________________\n"
     ]
    }
   ],
   "source": [
    "input_layer = Input(shape=(seq_length+2,), name='input_ids', dtype=tf.int32)\n",
    "mask_layer = Input(shape=(seq_length+2,),\n",
    "                   name='attention_mask', dtype=tf.int32)\n",
    "\n",
    "embedding_layer = bert.bert(input_layer, attention_mask=mask_layer)[1]\n",
    "\n",
    "out = Dense(1024, activation='relu')(embedding_layer)\n",
    "out = Dropout(0.2)(out)\n",
    "out = Dense(50)(out)\n",
    "\n",
    "model = Model(inputs=[input_layer, mask_layer], outputs=out)\n",
    "\n",
    "model.layers[2].trainable = False\n",
    "\n",
    "optimizer = SGD(learning_rate=0.00009, decay=1e-6)\n",
    "model.compile(optimizer=optimizer,\n",
    "              loss=tf.losses.mean_squared_error, metrics=['accuracy'])\n",
    "\n",
    "model.summary()\n"
   ]
  },
  {
   "cell_type": "code",
   "execution_count": 18,
   "metadata": {},
   "outputs": [
    {
     "name": "stdout",
     "output_type": "stream",
     "text": [
      "Epoch 1/100\n",
      "1379/1379 [==============================] - ETA: 0s - loss: 0.3480 - accuracy: 0.8286\n",
      "Epoch 00001: val_loss improved from inf to 0.31309, saving model to bert_model.h5\n",
      "1379/1379 [==============================] - 54s 39ms/step - loss: 0.3480 - accuracy: 0.8286 - val_loss: 0.3131 - val_accuracy: 0.8069\n",
      "Epoch 2/100\n",
      "1379/1379 [==============================] - ETA: 0s - loss: 0.3383 - accuracy: 0.8309\n",
      "Epoch 00002: val_loss did not improve from 0.31309\n",
      "1379/1379 [==============================] - 54s 39ms/step - loss: 0.3383 - accuracy: 0.8309 - val_loss: 0.3134 - val_accuracy: 0.7941\n",
      "Epoch 3/100\n",
      "1379/1379 [==============================] - ETA: 0s - loss: 0.3342 - accuracy: 0.8318\n",
      "Epoch 00003: val_loss improved from 0.31309 to 0.30882, saving model to bert_model.h5\n",
      "1379/1379 [==============================] - 54s 39ms/step - loss: 0.3342 - accuracy: 0.8318 - val_loss: 0.3088 - val_accuracy: 0.7969\n",
      "Epoch 4/100\n",
      "1379/1379 [==============================] - ETA: 0s - loss: 0.3278 - accuracy: 0.8341\n",
      "Epoch 00004: val_loss improved from 0.30882 to 0.30819, saving model to bert_model.h5\n",
      "1379/1379 [==============================] - 54s 39ms/step - loss: 0.3278 - accuracy: 0.8341 - val_loss: 0.3082 - val_accuracy: 0.8036\n",
      "Epoch 5/100\n",
      "1379/1379 [==============================] - ETA: 0s - loss: 0.3242 - accuracy: 0.8351\n",
      "Epoch 00005: val_loss improved from 0.30819 to 0.30704, saving model to bert_model.h5\n",
      "1379/1379 [==============================] - 54s 39ms/step - loss: 0.3242 - accuracy: 0.8351 - val_loss: 0.3070 - val_accuracy: 0.7998\n",
      "Epoch 6/100\n",
      "1379/1379 [==============================] - ETA: 0s - loss: 0.3201 - accuracy: 0.8364\n",
      "Epoch 00006: val_loss did not improve from 0.30704\n",
      "1379/1379 [==============================] - 54s 39ms/step - loss: 0.3201 - accuracy: 0.8364 - val_loss: 0.3094 - val_accuracy: 0.7929\n",
      "Epoch 7/100\n",
      "1379/1379 [==============================] - ETA: 0s - loss: 0.3175 - accuracy: 0.8367\n",
      "Epoch 00007: val_loss improved from 0.30704 to 0.30232, saving model to bert_model.h5\n",
      "1379/1379 [==============================] - 54s 39ms/step - loss: 0.3175 - accuracy: 0.8367 - val_loss: 0.3023 - val_accuracy: 0.8011\n",
      "Epoch 8/100\n",
      "1379/1379 [==============================] - ETA: 0s - loss: 0.3144 - accuracy: 0.8369\n",
      "Epoch 00008: val_loss did not improve from 0.30232\n",
      "1379/1379 [==============================] - 54s 39ms/step - loss: 0.3144 - accuracy: 0.8369 - val_loss: 0.3029 - val_accuracy: 0.8014\n",
      "Epoch 9/100\n",
      "1379/1379 [==============================] - ETA: 0s - loss: 0.3112 - accuracy: 0.8375\n",
      "Epoch 00009: val_loss did not improve from 0.30232\n",
      "1379/1379 [==============================] - 54s 39ms/step - loss: 0.3112 - accuracy: 0.8375 - val_loss: 0.3028 - val_accuracy: 0.8029\n",
      "Epoch 10/100\n",
      "1379/1379 [==============================] - ETA: 0s - loss: 0.3090 - accuracy: 0.8382\n",
      "Epoch 00010: val_loss improved from 0.30232 to 0.29865, saving model to bert_model.h5\n",
      "1379/1379 [==============================] - 54s 39ms/step - loss: 0.3090 - accuracy: 0.8382 - val_loss: 0.2986 - val_accuracy: 0.8043\n",
      "Epoch 11/100\n",
      "1379/1379 [==============================] - ETA: 0s - loss: 0.3072 - accuracy: 0.8368\n",
      "Epoch 00011: val_loss improved from 0.29865 to 0.29759, saving model to bert_model.h5\n",
      "1379/1379 [==============================] - 48s 35ms/step - loss: 0.3072 - accuracy: 0.8368 - val_loss: 0.2976 - val_accuracy: 0.8090\n",
      "Epoch 12/100\n",
      "1379/1379 [==============================] - ETA: 0s - loss: 0.3051 - accuracy: 0.8365\n",
      "Epoch 00012: val_loss did not improve from 0.29759\n",
      "1379/1379 [==============================] - 44s 32ms/step - loss: 0.3051 - accuracy: 0.8365 - val_loss: 0.2992 - val_accuracy: 0.8065\n",
      "Epoch 13/100\n",
      "1379/1379 [==============================] - ETA: 0s - loss: 0.3033 - accuracy: 0.8367\n",
      "Epoch 00013: val_loss did not improve from 0.29759\n",
      "1379/1379 [==============================] - 45s 33ms/step - loss: 0.3033 - accuracy: 0.8367 - val_loss: 0.2995 - val_accuracy: 0.8043\n",
      "Epoch 14/100\n",
      "1379/1379 [==============================] - ETA: 0s - loss: 0.3000 - accuracy: 0.8393\n",
      "Epoch 00014: val_loss improved from 0.29759 to 0.29453, saving model to bert_model.h5\n",
      "1379/1379 [==============================] - 46s 33ms/step - loss: 0.3000 - accuracy: 0.8393 - val_loss: 0.2945 - val_accuracy: 0.8070\n",
      "Epoch 15/100\n",
      "1379/1379 [==============================] - ETA: 0s - loss: 0.2991 - accuracy: 0.8379\n",
      "Epoch 00015: val_loss did not improve from 0.29453\n",
      "1379/1379 [==============================] - 46s 34ms/step - loss: 0.2991 - accuracy: 0.8379 - val_loss: 0.3006 - val_accuracy: 0.7985\n",
      "Epoch 16/100\n",
      "1379/1379 [==============================] - ETA: 0s - loss: 0.2970 - accuracy: 0.8384\n",
      "Epoch 00016: val_loss did not improve from 0.29453\n",
      "1379/1379 [==============================] - 45s 33ms/step - loss: 0.2970 - accuracy: 0.8384 - val_loss: 0.2982 - val_accuracy: 0.7991\n",
      "Epoch 17/100\n",
      "1379/1379 [==============================] - ETA: 0s - loss: 0.2965 - accuracy: 0.8374\n",
      "Epoch 00017: val_loss did not improve from 0.29453\n",
      "1379/1379 [==============================] - 46s 33ms/step - loss: 0.2965 - accuracy: 0.8374 - val_loss: 0.3035 - val_accuracy: 0.7922\n",
      "Epoch 00017: early stopping\n"
     ]
    }
   ],
   "source": [
    "es = EarlyStopping(monitor='val_loss', mode='min', verbose=1, patience=3)\n",
    "mc = ModelCheckpoint('bert_model.h5', monitor='val_loss',\n",
    "                     mode='min', save_best_only=True, verbose=1)\n",
    "\n",
    "history = model.fit(ds_train, validation_data=ds_val,\n",
    "                    batch_size=64, epochs=100, shuffle=True, verbose=1, callbacks=[es, mc])"
   ]
  },
  {
   "cell_type": "code",
   "execution_count": 19,
   "metadata": {},
   "outputs": [
    {
     "name": "stdout",
     "output_type": "stream",
     "text": [
      "Accuracy: 80.65%\n"
     ]
    }
   ],
   "source": [
    "loss, accuracy = model.evaluate(ds_test, verbose=0)\n",
    "print(\"Accuracy: {:.2f}%\".format(accuracy * 100))"
   ]
  },
  {
   "cell_type": "code",
   "execution_count": 20,
   "metadata": {},
   "outputs": [
    {
     "data": {
      "image/png": "[encoded data removed]",
      "text/plain": [
       "<Figure size 432x288 with 1 Axes>"
      ]
     },
     "metadata": {
      "needs_background": "light"
     },
     "output_type": "display_data"
    }
   ],
   "source": [
    "plt.plot(history.history['loss'], label='train')\n",
    "plt.plot(history.history['val_loss'], label='test')\n",
    "plt.legend()\n",
    "plt.show()"
   ]
  },
  {
   "cell_type": "code",
   "execution_count": 79,
   "metadata": {},
   "outputs": [],
   "source": [
    "def tokenize_input(text):\n",
    "    tokens = tokenizer.encode_plus(text, max_length=seq_length+2, truncation=True, padding='max_length', add_special_tokens=True, return_tensors='tf')\n",
    "    return {\n",
    "        'input_ids': tf.cast(tokens['input_ids'], tf.float64),\n",
    "        'attention_mask': tf.cast(tokens['attention_mask'], tf.float64),\n",
    "    }"
   ]
  },
  {
   "cell_type": "code",
   "execution_count": 62,
   "metadata": {},
   "outputs": [],
   "source": [
    "text = tokenize_input('Hello, my dog is cute but I have to give him ')"
   ]
  },
  {
   "cell_type": "code",
   "execution_count": 63,
   "metadata": {},
   "outputs": [],
   "source": [
    "props = model.predict(text)"
   ]
  },
  {
   "cell_type": "code",
   "execution_count": 52,
   "metadata": {},
   "outputs": [
    {
     "data": {
      "text/plain": [
       "array([ 2.2864541e-01,  5.5811711e-02, -1.5909947e-01, -9.2552386e-02,\n",
       "        2.1683852e-01, -1.8067926e-03, -1.7929357e-01,  8.5016996e-02,\n",
       "       -6.0084559e-02, -8.4663808e-02,  3.0000153e-01,  2.5356489e-01,\n",
       "       -2.1748012e-01, -2.3434865e-01,  2.6691300e-01,  1.3098808e-01,\n",
       "        8.9706391e-02, -6.0081307e-02, -3.1706849e-01, -1.8024109e-01,\n",
       "        2.7879816e-02,  1.1860728e-01,  2.1747522e-01, -5.8191601e-02,\n",
       "        1.2222081e-03, -1.6563417e+00, -3.7204102e-01,  6.2259618e-02,\n",
       "        3.6947641e-01, -8.9596204e-02,  2.7174873e+00,  2.3923495e-01,\n",
       "       -2.7848756e-01,  2.4145372e-02,  1.9010073e-01, -1.1825155e-01,\n",
       "       -9.9026941e-02, -7.0224136e-02,  1.9530536e-01,  1.1175760e-01,\n",
       "       -8.2937535e-05,  2.2639984e-01,  9.6105769e-02, -2.2000780e-02,\n",
       "       -1.1219374e-02,  3.3097878e-02, -1.5864472e-01, -2.9289836e-01,\n",
       "       -1.8678704e-01, -1.0117057e-01], dtype=float32)"
      ]
     },
     "execution_count": 52,
     "metadata": {},
     "output_type": "execute_result"
    }
   ],
   "source": [
    "props[0]"
   ]
  },
  {
   "cell_type": "code",
   "execution_count": 44,
   "metadata": {},
   "outputs": [],
   "source": [
    "from gensim.models import KeyedVectors\n",
    "\n",
    "w2v = KeyedVectors.load_word2vec_format(\n",
    "    'data/GloVe/glove.6B.50d_gensim.txt', binary=False, unicode_errors='ignore')"
   ]
  },
  {
   "cell_type": "code",
   "execution_count": 64,
   "metadata": {},
   "outputs": [
    {
     "name": "stdout",
     "output_type": "stream",
     "text": [
      "[('.', 0.9444191455841064), ('as', 0.9376862645149231), ('but', 0.9360287189483643), ('one', 0.9291987419128418), ('to', 0.9240070581436157), ('it', 0.9221705198287964), ('well', 0.9210121035575867), ('same', 0.9172413945198059), ('only', 0.9142103791236877), ('once', 0.9112837910652161), ('the', 0.9090365171432495), ('now', 0.9071311354637146), ('when', 0.906342089176178), ('and', 0.9045966267585754), ('still', 0.9031203985214233), ('because', 0.9030216336250305), ('this', 0.9020168781280518), ('that', 0.899276614189148), ('while', 0.8976303339004517), ('rest', 0.8972018957138062)]\n"
     ]
    }
   ],
   "source": [
    "word = w2v.similar_by_vector(props[0], topn=20)\n",
    "print(word)"
   ]
  },
  {
   "cell_type": "code",
   "execution_count": 30,
   "metadata": {},
   "outputs": [
    {
     "data": {
      "text/plain": [
       "[6, 7, 8, 9, 10, 11, 12, 13, 14, 15, 16, 17, 18, 19, 20, 21, 22, 23, 24, 25]"
      ]
     },
     "execution_count": 30,
     "metadata": {},
     "output_type": "execute_result"
    }
   ],
   "source": [
    "[1,2,3,4,5,6,7,8,9,10,11,12,13,14,15,16,17,18,19,20,21,22,23,24,25][-20:]"
   ]
  },
  {
   "cell_type": "code",
   "execution_count": 81,
   "metadata": {},
   "outputs": [
    {
     "name": "stdout",
     "output_type": "stream",
     "text": [
      "Hello, world as\n",
      "Hello, world as as\n",
      "Hello, world as as well\n",
      "Hello, world as as well one\n",
      "Hello, world as as well one well\n",
      "Hello, world as as well one well but\n",
      "Hello, world as as well one well but .\n",
      "Hello, world as as well one well but . and\n",
      "Hello, world as as well one well but . and as\n",
      "Hello, world as as well one well but . and as and\n",
      "Hello, world as as well one well but . and as and once\n",
      "Hello, world as as well one well but . and as and once .\n",
      "Hello, world as as well one well but . and as and once . as\n",
      "Hello, world as as well one well but . and as and once . as .\n",
      "Hello, world as as well one well but . and as and once . as . one\n",
      "Hello, world as as well one well but . and as and once . as . one well\n",
      "Hello, world as as well one well but . and as and once . as . one well to\n",
      "Hello, world as as well one well but . and as and once . as . one well to same\n",
      "world as as well one well but . and as and once . as . one well to same .\n",
      "as as well one well but . and as and once . as . one well to same . to\n",
      "as well one well but . and as and once . as . one well to same . to one\n",
      "well one well but . and as and once . as . one well to same . to one it\n",
      "one well but . and as and once . as . one well to same . to one it once\n",
      "well but . and as and once . as . one well to same . to one it once but\n",
      "but . and as and once . as . one well to same . to one it once but it\n",
      ". and as and once . as . one well to same . to one it once but it and\n",
      "and as and once . as . one well to same . to one it once but it and well\n",
      "as and once . as . one well to same . to one it once but it and well as\n",
      "and once . as . one well to same . to one it once but it and well as but\n",
      "once . as . one well to same . to one it once but it and well as but once\n"
     ]
    }
   ],
   "source": [
    "start_text = 'Hello, world'\n",
    "generated_text = start_text\n",
    "from random import randint, seed\n",
    "seed(42)\n",
    "\n",
    "for i in range(0, 30):\n",
    "    text = tokenize_input(generated_text)\n",
    "    props = model.predict(text)\n",
    "    top_word = w2v.similar_by_vector(props[0], topn=10)[randint(0, 9)][0]\n",
    "    generated_text = \" \".join(f'{generated_text} {top_word}'.split(' ')[-20:])\n",
    "    print(generated_text)"
   ]
  },
  {
   "cell_type": "code",
   "execution_count": null,
   "metadata": {},
   "outputs": [],
   "source": []
  }
 ],
 "metadata": {
  "interpreter": {
   "hash": "31f2aee4e71d21fbe5cf8b01ff0e069b9275f58929596ceb00d14d90e3e16cd6"
  },
  "kernelspec": {
   "display_name": "Python 3.9.2 64-bit",
   "language": "python",
   "name": "python3"
  },
  "language_info": {
   "codemirror_mode": {
    "name": "ipython",
    "version": 3
   },
   "file_extension": ".py",
   "mimetype": "text/x-python",
   "name": "python",
   "nbconvert_exporter": "python",
   "pygments_lexer": "ipython3",
   "version": "3.9.8"
  },
  "orig_nbformat": 4
 },
 "nbformat": 4,
 "nbformat_minor": 2
}
